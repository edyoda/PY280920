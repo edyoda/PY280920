{
 "cells": [
  {
   "cell_type": "code",
   "execution_count": 1,
   "metadata": {},
   "outputs": [
    {
     "name": "stdout",
     "output_type": "stream",
     "text": [
      "Requirement already satisfied: mysql-connector-python in c:\\users\\mohit\\appdata\\local\\programs\\python\\python38-32\\lib\\site-packages (8.0.22)\n",
      "Requirement already satisfied: protobuf>=3.0.0 in c:\\users\\mohit\\appdata\\local\\programs\\python\\python38-32\\lib\\site-packages (from mysql-connector-python) (3.14.0)\n",
      "Requirement already satisfied: six>=1.9 in c:\\users\\mohit\\appdata\\local\\programs\\python\\python38-32\\lib\\site-packages (from protobuf>=3.0.0->mysql-connector-python) (1.15.0)\n",
      "Note: you may need to restart the kernel to use updated packages.\n"
     ]
    },
    {
     "name": "stderr",
     "output_type": "stream",
     "text": [
      "WARNING: You are using pip version 19.2.3, however version 20.3.3 is available.\n",
      "You should consider upgrading via the 'python -m pip install --upgrade pip' command.\n"
     ]
    }
   ],
   "source": [
    "pip install mysql-connector-python"
   ]
  },
  {
   "cell_type": "code",
   "execution_count": 2,
   "metadata": {},
   "outputs": [
    {
     "name": "stdout",
     "output_type": "stream",
     "text": [
      "pip 19.2.3 from c:\\users\\mohit\\appdata\\local\\programs\\python\\python38-32\\lib\\site-packages\\pip (python 3.8)\n",
      "\n",
      "Note: you may need to restart the kernel to use updated packages.\n"
     ]
    }
   ],
   "source": [
    "pip --version"
   ]
  },
  {
   "cell_type": "code",
   "execution_count": 1,
   "metadata": {},
   "outputs": [],
   "source": [
    "import mysql.connector"
   ]
  },
  {
   "cell_type": "code",
   "execution_count": 7,
   "metadata": {},
   "outputs": [],
   "source": [
    "# cnx = mysql.connector.connect(user='root2', password='2804', host='localhost', database='classicmodels')"
   ]
  },
  {
   "cell_type": "code",
   "execution_count": 6,
   "metadata": {},
   "outputs": [],
   "source": [
    "# This occurs mostly due to Wrong Credentials.\n",
    "CHECK THEM IN MYSQL USING CMD:\n",
    "    SELECT CURRENT_USER();"
   ]
  },
  {
   "cell_type": "code",
   "execution_count": 2,
   "metadata": {},
   "outputs": [],
   "source": [
    "import mysql.connector\n",
    "cnx = mysql.connector.connect(user='root', password='2804', host='localhost', database='classicmodels')\n",
    "mycursor = cnx.cursor()"
   ]
  },
  {
   "cell_type": "code",
   "execution_count": 3,
   "metadata": {},
   "outputs": [],
   "source": [
    "mycursor = cnx.cursor()"
   ]
  },
  {
   "cell_type": "code",
   "execution_count": 4,
   "metadata": {},
   "outputs": [],
   "source": [
    "mycursor.execute(\"SHOW TABLES;\")"
   ]
  },
  {
   "cell_type": "code",
   "execution_count": 5,
   "metadata": {},
   "outputs": [],
   "source": [
    "myresult = mycursor.fetchall()"
   ]
  },
  {
   "cell_type": "code",
   "execution_count": 6,
   "metadata": {},
   "outputs": [
    {
     "name": "stdout",
     "output_type": "stream",
     "text": [
      "[('customers',), ('employees',), ('offices',), ('orderdetails',), ('orders',), ('payments',), ('productlines',), ('products',)]\n"
     ]
    }
   ],
   "source": [
    "print(myresult)"
   ]
  },
  {
   "cell_type": "code",
   "execution_count": 12,
   "metadata": {},
   "outputs": [
    {
     "ename": "InterfaceError",
     "evalue": "No result set to fetch from.",
     "output_type": "error",
     "traceback": [
      "\u001b[1;31m---------------------------------------------------------------------------\u001b[0m",
      "\u001b[1;31mInterfaceError\u001b[0m                            Traceback (most recent call last)",
      "\u001b[1;32m<ipython-input-12-2a48a671b3ad>\u001b[0m in \u001b[0;36m<module>\u001b[1;34m\u001b[0m\n\u001b[1;32m----> 1\u001b[1;33m \u001b[0mmycursor\u001b[0m\u001b[1;33m.\u001b[0m\u001b[0mfetchall\u001b[0m\u001b[1;33m(\u001b[0m\u001b[1;33m)\u001b[0m\u001b[1;33m\u001b[0m\u001b[1;33m\u001b[0m\u001b[0m\n\u001b[0m",
      "\u001b[1;32mc:\\users\\mohit\\appdata\\local\\programs\\python\\python38-32\\lib\\site-packages\\mysql\\connector\\cursor.py\u001b[0m in \u001b[0;36mfetchall\u001b[1;34m(self)\u001b[0m\n\u001b[0;32m    893\u001b[0m     \u001b[1;32mdef\u001b[0m \u001b[0mfetchall\u001b[0m\u001b[1;33m(\u001b[0m\u001b[0mself\u001b[0m\u001b[1;33m)\u001b[0m\u001b[1;33m:\u001b[0m\u001b[1;33m\u001b[0m\u001b[1;33m\u001b[0m\u001b[0m\n\u001b[0;32m    894\u001b[0m         \u001b[1;32mif\u001b[0m \u001b[1;32mnot\u001b[0m \u001b[0mself\u001b[0m\u001b[1;33m.\u001b[0m\u001b[0m_have_unread_result\u001b[0m\u001b[1;33m(\u001b[0m\u001b[1;33m)\u001b[0m\u001b[1;33m:\u001b[0m\u001b[1;33m\u001b[0m\u001b[1;33m\u001b[0m\u001b[0m\n\u001b[1;32m--> 895\u001b[1;33m             \u001b[1;32mraise\u001b[0m \u001b[0merrors\u001b[0m\u001b[1;33m.\u001b[0m\u001b[0mInterfaceError\u001b[0m\u001b[1;33m(\u001b[0m\u001b[1;34m\"No result set to fetch from.\"\u001b[0m\u001b[1;33m)\u001b[0m\u001b[1;33m\u001b[0m\u001b[1;33m\u001b[0m\u001b[0m\n\u001b[0m\u001b[0;32m    896\u001b[0m         \u001b[1;33m(\u001b[0m\u001b[0mrows\u001b[0m\u001b[1;33m,\u001b[0m \u001b[0meof\u001b[0m\u001b[1;33m)\u001b[0m \u001b[1;33m=\u001b[0m \u001b[0mself\u001b[0m\u001b[1;33m.\u001b[0m\u001b[0m_connection\u001b[0m\u001b[1;33m.\u001b[0m\u001b[0mget_rows\u001b[0m\u001b[1;33m(\u001b[0m\u001b[1;33m)\u001b[0m\u001b[1;33m\u001b[0m\u001b[1;33m\u001b[0m\u001b[0m\n\u001b[0;32m    897\u001b[0m         \u001b[1;32mif\u001b[0m \u001b[0mself\u001b[0m\u001b[1;33m.\u001b[0m\u001b[0m_nextrow\u001b[0m\u001b[1;33m[\u001b[0m\u001b[1;36m0\u001b[0m\u001b[1;33m]\u001b[0m\u001b[1;33m:\u001b[0m\u001b[1;33m\u001b[0m\u001b[1;33m\u001b[0m\u001b[0m\n",
      "\u001b[1;31mInterfaceError\u001b[0m: No result set to fetch from."
     ]
    }
   ],
   "source": [
    "mycursor.fetchall()"
   ]
  },
  {
   "cell_type": "code",
   "execution_count": 13,
   "metadata": {},
   "outputs": [
    {
     "name": "stdout",
     "output_type": "stream",
     "text": [
      "('customers',)\n",
      "('employees',)\n",
      "('offices',)\n",
      "('orderdetails',)\n",
      "('orders',)\n",
      "('payments',)\n",
      "('productlines',)\n",
      "('products',)\n"
     ]
    }
   ],
   "source": [
    "for row in myresult:\n",
    "    print(row)"
   ]
  },
  {
   "cell_type": "code",
   "execution_count": 16,
   "metadata": {},
   "outputs": [],
   "source": [
    "mycursor.execute(\"SELECT * FROM EMPLOYEES\")"
   ]
  },
  {
   "cell_type": "code",
   "execution_count": 17,
   "metadata": {},
   "outputs": [],
   "source": [
    "myresults = mycursor.fetchall()"
   ]
  },
  {
   "cell_type": "code",
   "execution_count": 18,
   "metadata": {},
   "outputs": [
    {
     "data": {
      "text/plain": [
       "23"
      ]
     },
     "execution_count": 18,
     "metadata": {},
     "output_type": "execute_result"
    }
   ],
   "source": [
    "len(myresults)"
   ]
  },
  {
   "cell_type": "code",
   "execution_count": 21,
   "metadata": {},
   "outputs": [
    {
     "name": "stdout",
     "output_type": "stream",
     "text": [
      "dmurphy@classicmodelcars.com\n",
      "mpatterso@classicmodelcars.com\n",
      "jfirrelli@classicmodelcars.com\n",
      "wpatterson@classicmodelcars.com\n",
      "gbondur@classicmodelcars.com\n",
      "abow@classicmodelcars.com\n",
      "ljennings@classicmodelcars.com\n",
      "lthompson@classicmodelcars.com\n",
      "jfirrelli@classicmodelcars.com\n",
      "spatterson@classicmodelcars.com\n",
      "ftseng@classicmodelcars.com\n",
      "gvanauf@classicmodelcars.com\n",
      "lbondur@classicmodelcars.com\n",
      "ghernande@classicmodelcars.com\n",
      "pcastillo@classicmodelcars.com\n",
      "lbott@classicmodelcars.com\n",
      "bjones@classicmodelcars.com\n",
      "afixter@classicmodelcars.com\n",
      "pmarsh@classicmodelcars.com\n",
      "tking@classicmodelcars.com\n",
      "mnishi@classicmodelcars.com\n",
      "ykato@classicmodelcars.com\n",
      "mgerard@classicmodelcars.com\n"
     ]
    }
   ],
   "source": [
    "for row in myresults:\n",
    "    print(row[4])"
   ]
  },
  {
   "cell_type": "code",
   "execution_count": 23,
   "metadata": {},
   "outputs": [],
   "source": [
    "def send_email(email):\n",
    "#     //actually sends a mail to this employee\n",
    "    print(\"mail sent to \",email)"
   ]
  },
  {
   "cell_type": "code",
   "execution_count": 24,
   "metadata": {},
   "outputs": [
    {
     "name": "stdout",
     "output_type": "stream",
     "text": [
      "mail sent to  dmurphy@classicmodelcars.com\n",
      "mail sent to  mpatterso@classicmodelcars.com\n",
      "mail sent to  jfirrelli@classicmodelcars.com\n",
      "mail sent to  wpatterson@classicmodelcars.com\n",
      "mail sent to  gbondur@classicmodelcars.com\n",
      "mail sent to  abow@classicmodelcars.com\n",
      "mail sent to  ljennings@classicmodelcars.com\n",
      "mail sent to  lthompson@classicmodelcars.com\n",
      "mail sent to  jfirrelli@classicmodelcars.com\n",
      "mail sent to  spatterson@classicmodelcars.com\n",
      "mail sent to  ftseng@classicmodelcars.com\n",
      "mail sent to  gvanauf@classicmodelcars.com\n",
      "mail sent to  lbondur@classicmodelcars.com\n",
      "mail sent to  ghernande@classicmodelcars.com\n",
      "mail sent to  pcastillo@classicmodelcars.com\n",
      "mail sent to  lbott@classicmodelcars.com\n",
      "mail sent to  bjones@classicmodelcars.com\n",
      "mail sent to  afixter@classicmodelcars.com\n",
      "mail sent to  pmarsh@classicmodelcars.com\n",
      "mail sent to  tking@classicmodelcars.com\n",
      "mail sent to  mnishi@classicmodelcars.com\n",
      "mail sent to  ykato@classicmodelcars.com\n",
      "mail sent to  mgerard@classicmodelcars.com\n"
     ]
    }
   ],
   "source": [
    "for row in myresults:\n",
    "    send_email(row[4])"
   ]
  },
  {
   "cell_type": "code",
   "execution_count": 25,
   "metadata": {},
   "outputs": [],
   "source": [
    "mycursor.execute(\"USE EXAMPLE\")"
   ]
  },
  {
   "cell_type": "code",
   "execution_count": 26,
   "metadata": {},
   "outputs": [],
   "source": [
    "mycursor.execute(\"SHOW TABLES;\")"
   ]
  },
  {
   "cell_type": "code",
   "execution_count": 28,
   "metadata": {},
   "outputs": [
    {
     "data": {
      "text/plain": [
       "[('example_1',),\n",
       " ('example_2',),\n",
       " ('example_3',),\n",
       " ('example_4',),\n",
       " ('student',),\n",
       " ('student_2',),\n",
       " ('student_3',)]"
      ]
     },
     "execution_count": 28,
     "metadata": {},
     "output_type": "execute_result"
    }
   ],
   "source": [
    "mycursor.fetchall()"
   ]
  },
  {
   "cell_type": "code",
   "execution_count": 29,
   "metadata": {},
   "outputs": [],
   "source": [
    "mycursor.execute(\"INSERT INTO example_1 VALUES (2,'Mohini','5',25,'F');\")"
   ]
  },
  {
   "cell_type": "code",
   "execution_count": 30,
   "metadata": {},
   "outputs": [],
   "source": [
    "cnx.commit()"
   ]
  },
  {
   "cell_type": "code",
   "execution_count": 31,
   "metadata": {},
   "outputs": [],
   "source": [
    "mycursor.execute(\"SELECT * FROM EXAMPLE_1;\")"
   ]
  },
  {
   "cell_type": "code",
   "execution_count": 32,
   "metadata": {},
   "outputs": [
    {
     "data": {
      "text/plain": [
       "[(1, 'Rohan', '4', 20, 'M'), (2, 'Mohini', '5', 25, 'F')]"
      ]
     },
     "execution_count": 32,
     "metadata": {},
     "output_type": "execute_result"
    }
   ],
   "source": [
    "mycursor.fetchall()"
   ]
  },
  {
   "cell_type": "code",
   "execution_count": 33,
   "metadata": {},
   "outputs": [
    {
     "data": {
      "text/plain": [
       "2"
      ]
     },
     "execution_count": 33,
     "metadata": {},
     "output_type": "execute_result"
    }
   ],
   "source": [
    "mycursor.rowcount"
   ]
  },
  {
   "cell_type": "code",
   "execution_count": 34,
   "metadata": {},
   "outputs": [],
   "source": [
    "mycursor.execute(\"INSERT INTO example_1 VALUES (3,'Rohini','10',55,'F');\")"
   ]
  },
  {
   "cell_type": "code",
   "execution_count": 35,
   "metadata": {},
   "outputs": [
    {
     "data": {
      "text/plain": [
       "1"
      ]
     },
     "execution_count": 35,
     "metadata": {},
     "output_type": "execute_result"
    }
   ],
   "source": [
    "mycursor.rowcount"
   ]
  },
  {
   "cell_type": "code",
   "execution_count": 36,
   "metadata": {},
   "outputs": [],
   "source": [
    "cnx.commit()"
   ]
  },
  {
   "cell_type": "code",
   "execution_count": 37,
   "metadata": {},
   "outputs": [],
   "source": [
    "# HOW DO WE CONNECT MYSQL OR ANY OTHER DATABASE FOR THAT MATTER IN BIG PROJECTS??"
   ]
  },
  {
   "cell_type": "code",
   "execution_count": 41,
   "metadata": {},
   "outputs": [],
   "source": [
    "# Django: Have built in connector for different kinds of dbms's.\n",
    "\n",
    "# GUI: TKINTER,KIVY,PYQT: mysql-connector in the python files."
   ]
  },
  {
   "cell_type": "code",
   "execution_count": null,
   "metadata": {},
   "outputs": [],
   "source": [
    "SERVER SIDE PAGINATION MINI-PROJECT"
   ]
  },
  {
   "cell_type": "code",
   "execution_count": null,
   "metadata": {},
   "outputs": [],
   "source": [
    "CheckPoint 1: Create string for creating a table such that each tuple in list of tuples should be considered as an cell."
   ]
  },
  {
   "cell_type": "code",
   "execution_count": 42,
   "metadata": {},
   "outputs": [],
   "source": [
    "rows = [(1, 'Rohan', '4', 20, 'M'), (2, 'Mohini', '5', 25, 'F')]"
   ]
  },
  {
   "cell_type": "code",
   "execution_count": 7,
   "metadata": {},
   "outputs": [],
   "source": [
    "from IPython.display import HTML, display, clear_output"
   ]
  },
  {
   "cell_type": "code",
   "execution_count": 51,
   "metadata": {},
   "outputs": [],
   "source": [
    "def display_table(data):\n",
    "    html_string = \"<table>\"\n",
    "    for row in data:\n",
    "        html_string += \"<tr>\"\n",
    "        for col in row:\n",
    "            html_string += \"<td><h4>%s</h4><td>\"%(col)\n",
    "        html_string += \"</tr>\"\n",
    "    html_string += \"</table>\"\n",
    "    display(HTML(html_string))"
   ]
  },
  {
   "cell_type": "code",
   "execution_count": 52,
   "metadata": {},
   "outputs": [
    {
     "data": {
      "text/html": [
       "<table><tr><td><h4>1</h4><td><td><h4>Rohan</h4><td><td><h4>4</h4><td><td><h4>20</h4><td><td><h4>M</h4><td></tr><tr><td><h4>2</h4><td><td><h4>Mohini</h4><td><td><h4>5</h4><td><td><h4>25</h4><td><td><h4>F</h4><td></tr></table>"
      ],
      "text/plain": [
       "<IPython.core.display.HTML object>"
      ]
     },
     "metadata": {},
     "output_type": "display_data"
    }
   ],
   "source": [
    "display_table(rows)"
   ]
  },
  {
   "cell_type": "code",
   "execution_count": 8,
   "metadata": {},
   "outputs": [],
   "source": [
    "from ipywidgets import widgets,Output"
   ]
  },
  {
   "cell_type": "code",
   "execution_count": 57,
   "metadata": {},
   "outputs": [],
   "source": [
    "def nextPage(arg):\n",
    "    print(\"Next is clicked!!\")"
   ]
  },
  {
   "cell_type": "code",
   "execution_count": 58,
   "metadata": {},
   "outputs": [
    {
     "data": {
      "application/vnd.jupyter.widget-view+json": {
       "model_id": "03a8be415d714730be74a9761d15e961",
       "version_major": 2,
       "version_minor": 0
      },
      "text/plain": [
       "Button(description='Next', style=ButtonStyle())"
      ]
     },
     "metadata": {},
     "output_type": "display_data"
    },
    {
     "name": "stdout",
     "output_type": "stream",
     "text": [
      "Next is clicked!!\n",
      "Next is clicked!!\n",
      "Next is clicked!!\n",
      "Next is clicked!!\n",
      "Next is clicked!!\n",
      "Next is clicked!!\n",
      "Next is clicked!!\n",
      "Next is clicked!!\n",
      "Next is clicked!!\n",
      "Next is clicked!!\n"
     ]
    }
   ],
   "source": [
    "next_button = widgets.Button(description=\"Next\")\n",
    "next_button.on_click(nextPage)\n",
    "display(next_button)"
   ]
  },
  {
   "cell_type": "code",
   "execution_count": 63,
   "metadata": {},
   "outputs": [],
   "source": [
    "def previousPage(arg):\n",
    "    print(\"Previous is clicked!!\")\n",
    "#     clear_output()"
   ]
  },
  {
   "cell_type": "code",
   "execution_count": 64,
   "metadata": {},
   "outputs": [
    {
     "data": {
      "application/vnd.jupyter.widget-view+json": {
       "model_id": "f344b86eda9944c583505fef36231eb5",
       "version_major": 2,
       "version_minor": 0
      },
      "text/plain": [
       "Button(description='Previous', style=ButtonStyle())"
      ]
     },
     "metadata": {},
     "output_type": "display_data"
    }
   ],
   "source": [
    "previous_button = widgets.Button(description=\"Previous\")\n",
    "previous_button.on_click(previousPage)\n",
    "display(previous_button)"
   ]
  },
  {
   "cell_type": "code",
   "execution_count": 66,
   "metadata": {},
   "outputs": [
    {
     "data": {
      "application/vnd.jupyter.widget-view+json": {
       "model_id": "7ea9e1f285e34e6d83239c9de5b513ce",
       "version_major": 2,
       "version_minor": 0
      },
      "text/plain": [
       "Output()"
      ]
     },
     "metadata": {},
     "output_type": "display_data"
    }
   ],
   "source": [
    "out = Output()\n",
    "display(out)"
   ]
  },
  {
   "cell_type": "code",
   "execution_count": 68,
   "metadata": {},
   "outputs": [],
   "source": [
    "with out:\n",
    "    print(\"hi\")\n",
    "    for i in range(5):\n",
    "        print(i)"
   ]
  },
  {
   "cell_type": "markdown",
   "metadata": {},
   "source": [
    "========================"
   ]
  },
  {
   "cell_type": "code",
   "execution_count": 69,
   "metadata": {},
   "outputs": [
    {
     "data": {
      "application/vnd.jupyter.widget-view+json": {
       "model_id": "e02fa7dec3f546b68d9ca2e1846e3081",
       "version_major": 2,
       "version_minor": 0
      },
      "text/plain": [
       "Output()"
      ]
     },
     "metadata": {},
     "output_type": "display_data"
    },
    {
     "data": {
      "application/vnd.jupyter.widget-view+json": {
       "model_id": "602d3ced18194b15b425d228660a76c2",
       "version_major": 2,
       "version_minor": 0
      },
      "text/plain": [
       "Button(description='Next', style=ButtonStyle())"
      ]
     },
     "metadata": {},
     "output_type": "display_data"
    },
    {
     "data": {
      "application/vnd.jupyter.widget-view+json": {
       "model_id": "6fda307ec8584044a3cd21dbf5480d62",
       "version_major": 2,
       "version_minor": 0
      },
      "text/plain": [
       "Button(description='Previous', style=ButtonStyle())"
      ]
     },
     "metadata": {},
     "output_type": "display_data"
    }
   ],
   "source": [
    "out = Output()\n",
    "display(out)\n",
    "\n",
    "def nextPage(arg):\n",
    "    with out:\n",
    "        clear_output()\n",
    "        print(\"Next is clicked!!\")\n",
    "    \n",
    "def previousPage(arg):\n",
    "    with out:\n",
    "        clear_output()\n",
    "        print(\"Previous is clicked!!\")\n",
    "        \n",
    "\n",
    "next_button = widgets.Button(description=\"Next\")\n",
    "next_button.on_click(nextPage)\n",
    "display(next_button)\n",
    "\n",
    "previous_button = widgets.Button(description=\"Previous\")\n",
    "previous_button.on_click(previousPage)\n",
    "display(previous_button)"
   ]
  },
  {
   "cell_type": "code",
   "execution_count": null,
   "metadata": {},
   "outputs": [],
   "source": [
    "CheckPoint 2: Server Side and DBMS side."
   ]
  },
  {
   "cell_type": "code",
   "execution_count": 71,
   "metadata": {},
   "outputs": [],
   "source": [
    "mycursor.execute('USE classicmodels;')"
   ]
  },
  {
   "cell_type": "code",
   "execution_count": 100,
   "metadata": {},
   "outputs": [],
   "source": [
    "mycursor.execute(\"Select * from employees where firstname like '%a%' or lastname like '%a%' limit 5 offset 15\")"
   ]
  },
  {
   "cell_type": "code",
   "execution_count": 101,
   "metadata": {},
   "outputs": [],
   "source": [
    "employeerecords = mycursor.fetchall()"
   ]
  },
  {
   "cell_type": "code",
   "execution_count": 102,
   "metadata": {},
   "outputs": [
    {
     "data": {
      "text/plain": [
       "1"
      ]
     },
     "execution_count": 102,
     "metadata": {},
     "output_type": "execute_result"
    }
   ],
   "source": [
    "len(employeerecords)"
   ]
  },
  {
   "cell_type": "code",
   "execution_count": 107,
   "metadata": {},
   "outputs": [],
   "source": [
    "def fetchRecords(tableName,searchString,perPage,offset):\n",
    "    mycursor.execute(\"DESC \"+tableName)\n",
    "    allColumns = mycursor.fetchall()\n",
    "    colNames = []\n",
    "    for col in allColumns:\n",
    "        colNames.append(col[0]+\" LIKE '%\"+searchString+\"%'\")\n",
    "    s = \" or \"\n",
    "    searchCriteria = s.join(colNames)\n",
    "    searchQuery = 'SELECT * FROM '+tableName+ ' WHERE ' + searchCriteria + ' limit ' + str(perPage) + ' offset ' + str(offset)\n",
    "    print(searchQuery)\n",
    "    mycursor.execute(searchQuery)\n",
    "    myresult = mycursor.fetchall()\n",
    "    return myresult"
   ]
  },
  {
   "cell_type": "code",
   "execution_count": 111,
   "metadata": {},
   "outputs": [
    {
     "name": "stdout",
     "output_type": "stream",
     "text": [
      "SELECT * FROM Employees WHERE employeeNumber LIKE '%ar%' or lastName LIKE '%ar%' or firstName LIKE '%ar%' or extension LIKE '%ar%' or email LIKE '%ar%' or officeCode LIKE '%ar%' or reportsTo LIKE '%ar%' or jobTitle LIKE '%ar%' limit 5 offset 10\n"
     ]
    }
   ],
   "source": [
    "rows = fetchRecords('Employees', 'ar',5,10)"
   ]
  },
  {
   "cell_type": "code",
   "execution_count": 112,
   "metadata": {},
   "outputs": [
    {
     "data": {
      "text/html": [
       "<table><tr><td><h4>1286</h4><td><td><h4>Tseng</h4><td><td><h4>Foon Yue</h4><td><td><h4>x2248</h4><td><td><h4>ftseng@classicmodelcars.com</h4><td><td><h4>3</h4><td><td><h4>1143</h4><td><td><h4>Sales Rep</h4><td></tr><tr><td><h4>1323</h4><td><td><h4>Vanauf</h4><td><td><h4>George</h4><td><td><h4>x4102</h4><td><td><h4>gvanauf@classicmodelcars.com</h4><td><td><h4>3</h4><td><td><h4>1143</h4><td><td><h4>Sales Rep</h4><td></tr><tr><td><h4>1337</h4><td><td><h4>Bondur</h4><td><td><h4>Loui</h4><td><td><h4>x6493</h4><td><td><h4>lbondur@classicmodelcars.com</h4><td><td><h4>4</h4><td><td><h4>1102</h4><td><td><h4>Sales Rep</h4><td></tr><tr><td><h4>1370</h4><td><td><h4>Hernandez</h4><td><td><h4>Gerard</h4><td><td><h4>x2028</h4><td><td><h4>ghernande@classicmodelcars.com</h4><td><td><h4>4</h4><td><td><h4>1102</h4><td><td><h4>Sales Rep</h4><td></tr><tr><td><h4>1401</h4><td><td><h4>Castillo</h4><td><td><h4>Pamela</h4><td><td><h4>x2759</h4><td><td><h4>pcastillo@classicmodelcars.com</h4><td><td><h4>4</h4><td><td><h4>1102</h4><td><td><h4>Sales Rep</h4><td></tr></table>"
      ],
      "text/plain": [
       "<IPython.core.display.HTML object>"
      ]
     },
     "metadata": {},
     "output_type": "display_data"
    }
   ],
   "source": [
    "display_table(rows)"
   ]
  },
  {
   "cell_type": "code",
   "execution_count": null,
   "metadata": {},
   "outputs": [],
   "source": [
    "CheckPoint 3: Integrate the frontend and the backend."
   ]
  },
  {
   "cell_type": "code",
   "execution_count": 11,
   "metadata": {},
   "outputs": [],
   "source": [
    "mycursor.execute(\"DESC EMPLOYEES\")"
   ]
  },
  {
   "cell_type": "code",
   "execution_count": 12,
   "metadata": {},
   "outputs": [
    {
     "name": "stdout",
     "output_type": "stream",
     "text": [
      "[('employeeNumber', b'int', 'NO', 'PRI', None, ''), ('lastName', b'varchar(50)', 'NO', '', None, ''), ('firstName', b'varchar(50)', 'NO', '', None, ''), ('extension', b'varchar(10)', 'NO', '', None, ''), ('email', b'varchar(100)', 'NO', '', None, ''), ('officeCode', b'varchar(10)', 'NO', 'MUL', None, ''), ('reportsTo', b'int', 'YES', 'MUL', None, ''), ('jobTitle', b'varchar(50)', 'NO', '', None, '')]\n"
     ]
    }
   ],
   "source": [
    "allColumns = mycursor.fetchall()\n",
    "\n",
    "print(allColumns)"
   ]
  },
  {
   "cell_type": "code",
   "execution_count": 1,
   "metadata": {},
   "outputs": [
    {
     "data": {
      "application/vnd.jupyter.widget-view+json": {
       "model_id": "9302fedd281b4c1c928ff9510f6db516",
       "version_major": 2,
       "version_minor": 0
      },
      "text/plain": [
       "Output()"
      ]
     },
     "metadata": {},
     "output_type": "display_data"
    },
    {
     "data": {
      "application/vnd.jupyter.widget-view+json": {
       "model_id": "16a6081f7cfb4a4e892bf9329985ce8f",
       "version_major": 2,
       "version_minor": 0
      },
      "text/plain": [
       "Button(description='Next', style=ButtonStyle())"
      ]
     },
     "metadata": {},
     "output_type": "display_data"
    },
    {
     "data": {
      "application/vnd.jupyter.widget-view+json": {
       "model_id": "a3c76cffe7824eb2a16fe4bd4c6cbec2",
       "version_major": 2,
       "version_minor": 0
      },
      "text/plain": [
       "Button(description='Previous', style=ButtonStyle())"
      ]
     },
     "metadata": {},
     "output_type": "display_data"
    }
   ],
   "source": [
    "from ipywidgets import widgets,Output\n",
    "from IPython.display import HTML, display, clear_output\n",
    "\n",
    "import mysql.connector\n",
    "cnx = mysql.connector.connect(user='root', password='2804', host='localhost', database='classicmodels')\n",
    "mycursor = cnx.cursor()\n",
    "\n",
    "def fetchRecords(tableName,searchString,perPage,offset):\n",
    "    mycursor.execute(\"DESC \"+tableName)\n",
    "    allColumns = mycursor.fetchall()\n",
    "    colNames = []\n",
    "    for col in allColumns:\n",
    "        colNames.append(col[0]+\" LIKE '%\"+searchString+\"%'\")\n",
    "    s = \" or \"\n",
    "    searchCriteria = s.join(colNames)\n",
    "    searchQuery = 'SELECT * FROM '+tableName+ ' WHERE ' + searchCriteria + ' limit ' + str(perPage) + ' offset ' + str(offset)\n",
    "#     print(searchQuery)\n",
    "    mycursor.execute(searchQuery)\n",
    "    myresult = mycursor.fetchall()\n",
    "    return myresult\n",
    "\n",
    "def display_table(data):\n",
    "    html_string = \"<table>\"\n",
    "    for row in data:\n",
    "        html_string += \"<tr>\"\n",
    "        for col in row:\n",
    "            html_string += \"<td><h4>%s</h4><td>\"%(col)\n",
    "        html_string += \"</tr>\"\n",
    "    html_string += \"</table>\"\n",
    "    display(HTML(html_string))\n",
    "\n",
    "out = Output()\n",
    "display(out)\n",
    "perPage = 5\n",
    "offset = 0\n",
    "\n",
    "def nextPage(arg):\n",
    "    with out:\n",
    "        clear_output()\n",
    "        global offset\n",
    "        offset += perPage\n",
    "        records = fetchRecords('Employees', 'ar',perPage,offset)\n",
    "        if not records:\n",
    "            print('NO RECORDS FOUND')\n",
    "        else:\n",
    "            display_table(records)\n",
    "    \n",
    "def previousPage(arg):\n",
    "    with out:\n",
    "        clear_output()\n",
    "        global offset\n",
    "        offset -= perPage\n",
    "        if offset<0:\n",
    "            print('PREVIOUS BUTTON IS EXHAUSTED')\n",
    "            offset = 0\n",
    "        else:\n",
    "            records = fetchRecords('Employees', 'ar',perPage,offset)\n",
    "            if not records:\n",
    "                print('NO RECORDS FOUND')\n",
    "            else:\n",
    "                display_table(records)\n",
    "        \n",
    "\n",
    "next_button = widgets.Button(description=\"Next\")\n",
    "next_button.on_click(nextPage)\n",
    "display(next_button)\n",
    "\n",
    "previous_button = widgets.Button(description=\"Previous\")\n",
    "previous_button.on_click(previousPage)\n",
    "display(previous_button)"
   ]
  },
  {
   "cell_type": "code",
   "execution_count": null,
   "metadata": {},
   "outputs": [],
   "source": [
    "Homework:\n",
    "    How can we remove redundance in using previousPage and NextPage function as they contain the same code except a - sign.\n",
    "    How can we have headers for this table.(Hint: can we take help of desc command that we used in fetchrecords.)\n",
    "    Revise and understand this code properly."
   ]
  }
 ],
 "metadata": {
  "kernelspec": {
   "display_name": "Python 3",
   "language": "python",
   "name": "python3"
  },
  "language_info": {
   "codemirror_mode": {
    "name": "ipython",
    "version": 3
   },
   "file_extension": ".py",
   "mimetype": "text/x-python",
   "name": "python",
   "nbconvert_exporter": "python",
   "pygments_lexer": "ipython3",
   "version": "3.8.3"
  }
 },
 "nbformat": 4,
 "nbformat_minor": 4
}
