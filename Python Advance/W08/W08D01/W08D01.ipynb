{
 "cells": [
  {
   "cell_type": "code",
   "execution_count": 1,
   "metadata": {},
   "outputs": [
    {
     "name": "stdout",
     "output_type": "stream",
     "text": [
      "Requirement already satisfied: requests in c:\\users\\mohit\\appdata\\local\\programs\\python\\python38-32\\lib\\site-packages (2.24.0)\n",
      "Requirement already satisfied: idna<3,>=2.5 in c:\\users\\mohit\\appdata\\local\\programs\\python\\python38-32\\lib\\site-packages (from requests) (2.10)\n",
      "Requirement already satisfied: chardet<4,>=3.0.2 in c:\\users\\mohit\\appdata\\local\\programs\\python\\python38-32\\lib\\site-packages (from requests) (3.0.4)\n",
      "Requirement already satisfied: urllib3!=1.25.0,!=1.25.1,<1.26,>=1.21.1 in c:\\users\\mohit\\appdata\\local\\programs\\python\\python38-32\\lib\\site-packages (from requests) (1.25.10)\n",
      "Requirement already satisfied: certifi>=2017.4.17 in c:\\users\\mohit\\appdata\\local\\programs\\python\\python38-32\\lib\\site-packages (from requests) (2020.6.20)\n",
      "Note: you may need to restart the kernel to use updated packages.\n"
     ]
    },
    {
     "name": "stderr",
     "output_type": "stream",
     "text": [
      "WARNING: You are using pip version 19.2.3, however version 20.3.3 is available.\n",
      "You should consider upgrading via the 'python -m pip install --upgrade pip' command.\n"
     ]
    }
   ],
   "source": [
    "pip install requests"
   ]
  },
  {
   "cell_type": "code",
   "execution_count": 2,
   "metadata": {},
   "outputs": [],
   "source": [
    "import requests"
   ]
  },
  {
   "cell_type": "code",
   "execution_count": 3,
   "metadata": {},
   "outputs": [],
   "source": [
    "response = requests.get(\"https://www.google.com/\")"
   ]
  },
  {
   "cell_type": "code",
   "execution_count": null,
   "metadata": {},
   "outputs": [],
   "source": [
    "200 http status code means it was a success "
   ]
  },
  {
   "cell_type": "code",
   "execution_count": 4,
   "metadata": {},
   "outputs": [
    {
     "data": {
      "text/plain": [
       "<Response [200]>"
      ]
     },
     "execution_count": 4,
     "metadata": {},
     "output_type": "execute_result"
    }
   ],
   "source": [
    "response"
   ]
  },
  {
   "cell_type": "code",
   "execution_count": 6,
   "metadata": {},
   "outputs": [],
   "source": [
    "# response.text"
   ]
  },
  {
   "cell_type": "code",
   "execution_count": null,
   "metadata": {},
   "outputs": [],
   "source": [
    "API EXAMPLE"
   ]
  },
  {
   "cell_type": "code",
   "execution_count": null,
   "metadata": {},
   "outputs": [],
   "source": [
    "# TYPES OF API'S :\n",
    "GET --> WE WANT SOME DATA FROM A SERVER/WEBSITE\n",
    "\n",
    "POST --> WE WANT TO SEND SOME DATA TO A SERVER/WEBSITE\n",
    "\n",
    "OTHERS ALSO: LESS IMP."
   ]
  },
  {
   "cell_type": "code",
   "execution_count": 7,
   "metadata": {},
   "outputs": [],
   "source": [
    "astro_url = \"http://api.open-notify.org/astros.json\"\n",
    "\n",
    "space_response = requests.get(astro_url)"
   ]
  },
  {
   "cell_type": "code",
   "execution_count": 8,
   "metadata": {},
   "outputs": [
    {
     "data": {
      "text/plain": [
       "<Response [200]>"
      ]
     },
     "execution_count": 8,
     "metadata": {},
     "output_type": "execute_result"
    }
   ],
   "source": [
    "space_response"
   ]
  },
  {
   "cell_type": "code",
   "execution_count": 9,
   "metadata": {},
   "outputs": [
    {
     "data": {
      "text/plain": [
       "'{\"message\": \"success\", \"number\": 7, \"people\": [{\"craft\": \"ISS\", \"name\": \"Sergey Ryzhikov\"}, {\"craft\": \"ISS\", \"name\": \"Kate Rubins\"}, {\"craft\": \"ISS\", \"name\": \"Sergey Kud-Sverchkov\"}, {\"craft\": \"ISS\", \"name\": \"Mike Hopkins\"}, {\"craft\": \"ISS\", \"name\": \"Victor Glover\"}, {\"craft\": \"ISS\", \"name\": \"Shannon Walker\"}, {\"craft\": \"ISS\", \"name\": \"Soichi Noguchi\"}]}'"
      ]
     },
     "execution_count": 9,
     "metadata": {},
     "output_type": "execute_result"
    }
   ],
   "source": [
    "space_response.text"
   ]
  },
  {
   "cell_type": "code",
   "execution_count": 10,
   "metadata": {},
   "outputs": [
    {
     "data": {
      "text/plain": [
       "str"
      ]
     },
     "execution_count": 10,
     "metadata": {},
     "output_type": "execute_result"
    }
   ],
   "source": [
    "type(space_response.text)"
   ]
  },
  {
   "cell_type": "code",
   "execution_count": 11,
   "metadata": {},
   "outputs": [
    {
     "data": {
      "text/plain": [
       "{'message': 'success',\n",
       " 'number': 7,\n",
       " 'people': [{'craft': 'ISS', 'name': 'Sergey Ryzhikov'},\n",
       "  {'craft': 'ISS', 'name': 'Kate Rubins'},\n",
       "  {'craft': 'ISS', 'name': 'Sergey Kud-Sverchkov'},\n",
       "  {'craft': 'ISS', 'name': 'Mike Hopkins'},\n",
       "  {'craft': 'ISS', 'name': 'Victor Glover'},\n",
       "  {'craft': 'ISS', 'name': 'Shannon Walker'},\n",
       "  {'craft': 'ISS', 'name': 'Soichi Noguchi'}]}"
      ]
     },
     "execution_count": 11,
     "metadata": {},
     "output_type": "execute_result"
    }
   ],
   "source": [
    "space_response.json()"
   ]
  },
  {
   "cell_type": "code",
   "execution_count": 12,
   "metadata": {},
   "outputs": [
    {
     "data": {
      "text/plain": [
       "dict"
      ]
     },
     "execution_count": 12,
     "metadata": {},
     "output_type": "execute_result"
    }
   ],
   "source": [
    "type(space_response.json())"
   ]
  },
  {
   "cell_type": "code",
   "execution_count": null,
   "metadata": {},
   "outputs": [],
   "source": [
    "SO WHAT ARE API'S\n",
    "\n",
    "API'S ARE GENERALLY USE TO EXCHANGE DATA. (JSON IS MOSTLY USED TO INTERCHANGE THE DATA WITH THE API'S)\n",
    "\n",
    "CONSIDER YOU ARE IN A RESTRAUNT\n",
    "\n",
    "1)CALL THE WAITER\n",
    "2)YOU WILL TELL HIM THE ORDER DETAILS (LIKE PIZZA,COLDDRINKS)\n",
    "3)WAITER WILL GO BACK IN THE KITCHEN AND TELL CHEF TO MAKE A PIZZA, AND PREPARE THE COLD DRINKS IN GLASSES.\n",
    "4)WAITER WILL COME BACK AFTER SOME TIME WITH PREPARED FOOD(PIZZA AND DRINKS)\n",
    "\n",
    "\n",
    "API ARE ANALOGOUS TO A WAITER. API == WAITER.\n",
    "\n",
    "1)CALL THE API\n",
    "2)YOU WILL GIVE IT SOME INFO (PAYLOAD(IF IT IS A POST REQUEST) OR PARAMETERS(IF IT IS A GET REQUEST))\n",
    "3)API WILL GO BACK TO THE SERVER SIDE LOGIC WHICH MIGHT ACCESS THE DATABASE AND PREPARE THE DATA WHICH WE HAVE REQUESTED.\n",
    "4)API WILL COME BACK WITH THE RESPONSE."
   ]
  },
  {
   "cell_type": "code",
   "execution_count": null,
   "metadata": {},
   "outputs": [],
   "source": [
    "NORMAL WEBSITES VS API'S\n",
    "\n",
    "NORMAL WEBSITES ARE FOR HUMAN READABLITY AND ACCESIBILITY\n",
    "\n",
    "BUT API'S ARE USED BY CODE TO READ AND ACCESS DATA."
   ]
  },
  {
   "cell_type": "code",
   "execution_count": null,
   "metadata": {},
   "outputs": [],
   "source": [
    "HTTP STATUS CODES: SHOW US THE STATUS OF THE REQUEST THAT WE HAVE MADE.\n",
    "    \n",
    "200: OK\n",
    "400: BAD REQUEST\n",
    "401: UNAUTHORIZED\n",
    "403: FORBIDDEN"
   ]
  },
  {
   "cell_type": "code",
   "execution_count": 13,
   "metadata": {},
   "outputs": [],
   "source": [
    "covid19_api_url = \"https://api.covid19api.com/summary\""
   ]
  },
  {
   "cell_type": "code",
   "execution_count": 14,
   "metadata": {},
   "outputs": [],
   "source": [
    "covid_response = requests.get(covid19_api_url)"
   ]
  },
  {
   "cell_type": "code",
   "execution_count": 15,
   "metadata": {},
   "outputs": [
    {
     "data": {
      "text/plain": [
       "<Response [200]>"
      ]
     },
     "execution_count": 15,
     "metadata": {},
     "output_type": "execute_result"
    }
   ],
   "source": [
    "covid_response"
   ]
  },
  {
   "cell_type": "code",
   "execution_count": 17,
   "metadata": {},
   "outputs": [],
   "source": [
    "json_response = covid_response.json()"
   ]
  },
  {
   "cell_type": "code",
   "execution_count": 18,
   "metadata": {},
   "outputs": [
    {
     "data": {
      "text/plain": [
       "dict_keys(['Message', 'Global', 'Countries', 'Date'])"
      ]
     },
     "execution_count": 18,
     "metadata": {},
     "output_type": "execute_result"
    }
   ],
   "source": [
    "json_response.keys()"
   ]
  },
  {
   "cell_type": "code",
   "execution_count": 19,
   "metadata": {},
   "outputs": [
    {
     "name": "stdout",
     "output_type": "stream",
     "text": [
      "{'Message': '', 'Global': {'NewConfirmed': 432054, 'TotalConfirmed': 80771913, 'NewDeaths': 7206, 'TotalDeaths': 1764756, 'NewRecovered': 287724, 'TotalRecovered': 45688343}, 'Countries': [{'Country': 'Afghanistan', 'CountryCode': 'AF', 'Slug': 'afghanistan', 'NewConfirmed': 153, 'TotalConfirmed': 51039, 'NewDeaths': 11, 'TotalDeaths': 2160, 'NewRecovered': 312, 'TotalRecovered': 41096, 'Date': '2020-12-28T12:17:19Z', 'Premium': {}}, {'Country': 'Albania', 'CountryCode': 'AL', 'Slug': 'albania', 'NewConfirmed': 499, 'TotalConfirmed': 56254, 'NewDeaths': 10, 'TotalDeaths': 1153, 'NewRecovered': 384, 'TotalRecovered': 31565, 'Date': '2020-12-28T12:17:19Z', 'Premium': {}}, {'Country': 'Algeria', 'CountryCode': 'DZ', 'Slug': 'algeria', 'NewConfirmed': 392, 'TotalConfirmed': 98249, 'NewDeaths': 6, 'TotalDeaths': 2728, 'NewRecovered': 357, 'TotalRecovered': 65862, 'Date': '2020-12-28T12:17:19Z', 'Premium': {}}, {'Country': 'Andorra', 'CountryCode': 'AD', 'Slug': 'andorra', 'NewConfirmed': 15, 'TotalConfirmed': 7821, 'NewDeaths': 0, 'TotalDeaths': 83, 'NewRecovered': 36, 'TotalRecovered': 7288, 'Date': '2020-12-28T12:17:19Z', 'Premium': {}}, {'Country': 'Angola', 'CountryCode': 'AO', 'Slug': 'angola', 'NewConfirmed': 91, 'TotalConfirmed': 17240, 'NewDeaths': 0, 'TotalDeaths': 399, 'NewRecovered': 378, 'TotalRecovered': 10354, 'Date': '2020-12-28T12:17:19Z', 'Premium': {}}, {'Country': 'Antigua and Barbuda', 'CountryCode': 'AG', 'Slug': 'antigua-and-barbuda', 'NewConfirmed': 0, 'TotalConfirmed': 155, 'NewDeaths': 0, 'TotalDeaths': 5, 'NewRecovered': 0, 'TotalRecovered': 146, 'Date': '2020-12-28T12:17:19Z', 'Premium': {}}, {'Country': 'Argentina', 'CountryCode': 'AR', 'Slug': 'argentina', 'NewConfirmed': 5030, 'TotalConfirmed': 1583297, 'NewDeaths': 149, 'TotalDeaths': 42650, 'NewRecovered': 5699, 'TotalRecovered': 1407926, 'Date': '2020-12-28T12:17:19Z', 'Premium': {}}, {'Country': 'Armenia', 'CountryCode': 'AM', 'Slug': 'armenia', 'NewConfirmed': 485, 'TotalConfirmed': 157834, 'NewDeaths': 16, 'TotalDeaths': 2768, 'NewRecovered': 444, 'TotalRecovered': 139113, 'Date': '2020-12-28T12:17:19Z', 'Premium': {}}, {'Country': 'Australia', 'CountryCode': 'AU', 'Slug': 'australia', 'NewConfirmed': 29, 'TotalConfirmed': 28337, 'NewDeaths': 1, 'TotalDeaths': 909, 'NewRecovered': 3, 'TotalRecovered': 25733, 'Date': '2020-12-28T12:17:19Z', 'Premium': {}}, {'Country': 'Austria', 'CountryCode': 'AT', 'Slug': 'austria', 'NewConfirmed': 1408, 'TotalConfirmed': 351892, 'NewDeaths': 38, 'TotalDeaths': 5881, 'NewRecovered': 2249, 'TotalRecovered': 323002, 'Date': '2020-12-28T12:17:19Z', 'Premium': {}}, {'Country': 'Azerbaijan', 'CountryCode': 'AZ', 'Slug': 'azerbaijan', 'NewConfirmed': 1519, 'TotalConfirmed': 214711, 'NewDeaths': 45, 'TotalDeaths': 2499, 'NewRecovered': 4471, 'TotalRecovered': 168971, 'Date': '2020-12-28T12:17:19Z', 'Premium': {}}, {'Country': 'Bahamas', 'CountryCode': 'BS', 'Slug': 'bahamas', 'NewConfirmed': 46, 'TotalConfirmed': 7834, 'NewDeaths': 1, 'TotalDeaths': 170, 'NewRecovered': 11, 'TotalRecovered': 6177, 'Date': '2020-12-28T12:17:19Z', 'Premium': {}}, {'Country': 'Bahrain', 'CountryCode': 'BH', 'Slug': 'bahrain', 'NewConfirmed': 215, 'TotalConfirmed': 91733, 'NewDeaths': 0, 'TotalDeaths': 351, 'NewRecovered': 130, 'TotalRecovered': 89456, 'Date': '2020-12-28T12:17:19Z', 'Premium': {}}, {'Country': 'Bangladesh', 'CountryCode': 'BD', 'Slug': 'bangladesh', 'NewConfirmed': 1049, 'TotalConfirmed': 509148, 'NewDeaths': 24, 'TotalDeaths': 7452, 'NewRecovered': 1473, 'TotalRecovered': 451961, 'Date': '2020-12-28T12:17:19Z', 'Premium': {}}, {'Country': 'Barbados', 'CountryCode': 'BB', 'Slug': 'barbados', 'NewConfirmed': 4, 'TotalConfirmed': 356, 'NewDeaths': 0, 'TotalDeaths': 7, 'NewRecovered': 5, 'TotalRecovered': 301, 'Date': '2020-12-28T12:17:19Z', 'Premium': {}}, {'Country': 'Belarus', 'CountryCode': 'BY', 'Slug': 'belarus', 'NewConfirmed': 1825, 'TotalConfirmed': 186747, 'NewDeaths': 9, 'TotalDeaths': 1385, 'NewRecovered': 1498, 'TotalRecovered': 166036, 'Date': '2020-12-28T12:17:19Z', 'Premium': {}}, {'Country': 'Belgium', 'CountryCode': 'BE', 'Slug': 'belgium', 'NewConfirmed': 847, 'TotalConfirmed': 638877, 'NewDeaths': 42, 'TotalDeaths': 19200, 'NewRecovered': 0, 'TotalRecovered': 0, 'Date': '2020-12-28T12:17:19Z', 'Premium': {}}, {'Country': 'Belize', 'CountryCode': 'BZ', 'Slug': 'belize', 'NewConfirmed': 71, 'TotalConfirmed': 10561, 'NewDeaths': 5, 'TotalDeaths': 233, 'NewRecovered': 200, 'TotalRecovered': 9281, 'Date': '2020-12-28T12:17:19Z', 'Premium': {}}, {'Country': 'Benin', 'CountryCode': 'BJ', 'Slug': 'benin', 'NewConfirmed': 0, 'TotalConfirmed': 3205, 'NewDeaths': 0, 'TotalDeaths': 44, 'NewRecovered': 0, 'TotalRecovered': 3061, 'Date': '2020-12-28T12:17:19Z', 'Premium': {}}, {'Country': 'Bhutan', 'CountryCode': 'BT', 'Slug': 'bhutan', 'NewConfirmed': 26, 'TotalConfirmed': 623, 'NewDeaths': 0, 'TotalDeaths': 0, 'NewRecovered': 0, 'TotalRecovered': 445, 'Date': '2020-12-28T12:17:19Z', 'Premium': {}}, {'Country': 'Bolivia', 'CountryCode': 'BO', 'Slug': 'bolivia', 'NewConfirmed': 494, 'TotalConfirmed': 154843, 'NewDeaths': 5, 'TotalDeaths': 9098, 'NewRecovered': 253, 'TotalRecovered': 130222, 'Date': '2020-12-28T12:17:19Z', 'Premium': {}}, {'Country': 'Bosnia and Herzegovina', 'CountryCode': 'BA', 'Slug': 'bosnia-and-herzegovina', 'NewConfirmed': 361, 'TotalConfirmed': 109691, 'NewDeaths': 30, 'TotalDeaths': 3953, 'NewRecovered': 593, 'TotalRecovered': 75717, 'Date': '2020-12-28T12:17:19Z', 'Premium': {}}, {'Country': 'Botswana', 'CountryCode': 'BW', 'Slug': 'botswana', 'NewConfirmed': 0, 'TotalConfirmed': 14025, 'NewDeaths': 0, 'TotalDeaths': 40, 'NewRecovered': 0, 'TotalRecovered': 11627, 'Date': '2020-12-28T12:17:19Z', 'Premium': {}}, {'Country': 'Brazil', 'CountryCode': 'BR', 'Slug': 'brazil', 'NewConfirmed': 18479, 'TotalConfirmed': 7484285, 'NewDeaths': 344, 'TotalDeaths': 191139, 'NewRecovered': 23046, 'TotalRecovered': 6677235, 'Date': '2020-12-28T12:17:19Z', 'Premium': {}}, {'Country': 'Brunei Darussalam', 'CountryCode': 'BN', 'Slug': 'brunei', 'NewConfirmed': 0, 'TotalConfirmed': 152, 'NewDeaths': 0, 'TotalDeaths': 3, 'NewRecovered': 0, 'TotalRecovered': 149, 'Date': '2020-12-28T12:17:19Z', 'Premium': {}}, {'Country': 'Bulgaria', 'CountryCode': 'BG', 'Slug': 'bulgaria', 'NewConfirmed': 332, 'TotalConfirmed': 197716, 'NewDeaths': 41, 'TotalDeaths': 7164, 'NewRecovered': 1266, 'TotalRecovered': 111008, 'Date': '2020-12-28T12:17:19Z', 'Premium': {}}, {'Country': 'Burkina Faso', 'CountryCode': 'BF', 'Slug': 'burkina-faso', 'NewConfirmed': 89, 'TotalConfirmed': 6344, 'NewDeaths': 1, 'TotalDeaths': 78, 'NewRecovered': 187, 'TotalRecovered': 4775, 'Date': '2020-12-28T12:17:19Z', 'Premium': {}}, {'Country': 'Burundi', 'CountryCode': 'BI', 'Slug': 'burundi', 'NewConfirmed': 18, 'TotalConfirmed': 804, 'NewDeaths': 0, 'TotalDeaths': 2, 'NewRecovered': 0, 'TotalRecovered': 687, 'Date': '2020-12-28T12:17:19Z', 'Premium': {}}, {'Country': 'Cambodia', 'CountryCode': 'KH', 'Slug': 'cambodia', 'NewConfirmed': 0, 'TotalConfirmed': 364, 'NewDeaths': 0, 'TotalDeaths': 0, 'NewRecovered': 4, 'TotalRecovered': 360, 'Date': '2020-12-28T12:17:19Z', 'Premium': {}}, {'Country': 'Cameroon', 'CountryCode': 'CM', 'Slug': 'cameroon', 'NewConfirmed': 0, 'TotalConfirmed': 26277, 'NewDeaths': 0, 'TotalDeaths': 448, 'NewRecovered': 0, 'TotalRecovered': 24892, 'Date': '2020-12-28T12:17:19Z', 'Premium': {}}, {'Country': 'Canada', 'CountryCode': 'CA', 'Slug': 'canada', 'NewConfirmed': 9641, 'TotalConfirmed': 550556, 'NewDeaths': 160, 'TotalDeaths': 14928, 'NewRecovered': 10465, 'TotalRecovered': 461134, 'Date': '2020-12-28T12:17:19Z', 'Premium': {}}, {'Country': 'Cape Verde', 'CountryCode': 'CV', 'Slug': 'cape-verde', 'NewConfirmed': 16, 'TotalConfirmed': 11714, 'NewDeaths': 0, 'TotalDeaths': 112, 'NewRecovered': 21, 'TotalRecovered': 11447, 'Date': '2020-12-28T12:17:19Z', 'Premium': {}}, {'Country': 'Central African Republic', 'CountryCode': 'CF', 'Slug': 'central-african-republic', 'NewConfirmed': 0, 'TotalConfirmed': 4948, 'NewDeaths': 0, 'TotalDeaths': 63, 'NewRecovered': 0, 'TotalRecovered': 1924, 'Date': '2020-12-28T12:17:19Z', 'Premium': {}}, {'Country': 'Chad', 'CountryCode': 'TD', 'Slug': 'chad', 'NewConfirmed': 19, 'TotalConfirmed': 2005, 'NewDeaths': 1, 'TotalDeaths': 104, 'NewRecovered': 8, 'TotalRecovered': 1662, 'Date': '2020-12-28T12:17:19Z', 'Premium': {}}, {'Country': 'Chile', 'CountryCode': 'CL', 'Slug': 'chile', 'NewConfirmed': 1711, 'TotalConfirmed': 600105, 'NewDeaths': 39, 'TotalDeaths': 16443, 'NewRecovered': 2202, 'TotalRecovered': 569578, 'Date': '2020-12-28T12:17:19Z', 'Premium': {}}, {'Country': 'China', 'CountryCode': 'CN', 'Slug': 'china', 'NewConfirmed': 91, 'TotalConfirmed': 95632, 'NewDeaths': 1, 'TotalDeaths': 4771, 'NewRecovered': 95, 'TotalRecovered': 89518, 'Date': '2020-12-28T12:17:19Z', 'Premium': {}}, {'Country': 'Colombia', 'CountryCode': 'CO', 'Slug': 'colombia', 'NewConfirmed': 9594, 'TotalConfirmed': 1594497, 'NewDeaths': 228, 'TotalDeaths': 42171, 'NewRecovered': 11934, 'TotalRecovered': 1455975, 'Date': '2020-12-28T12:17:19Z', 'Premium': {}}, {'Country': 'Comoros', 'CountryCode': 'KM', 'Slug': 'comoros', 'NewConfirmed': 0, 'TotalConfirmed': 715, 'NewDeaths': 0, 'TotalDeaths': 7, 'NewRecovered': 0, 'TotalRecovered': 626, 'Date': '2020-12-28T12:17:19Z', 'Premium': {}}, {'Country': 'Congo (Brazzaville)', 'CountryCode': 'CG', 'Slug': 'congo-brazzaville', 'NewConfirmed': 0, 'TotalConfirmed': 6908, 'NewDeaths': 0, 'TotalDeaths': 107, 'NewRecovered': 0, 'TotalRecovered': 5831, 'Date': '2020-12-28T12:17:19Z', 'Premium': {}}, {'Country': 'Congo (Kinshasa)', 'CountryCode': 'CD', 'Slug': 'congo-kinshasa', 'NewConfirmed': 76, 'TotalConfirmed': 16839, 'NewDeaths': 6, 'TotalDeaths': 579, 'NewRecovered': 502, 'TotalRecovered': 14484, 'Date': '2020-12-28T12:17:19Z', 'Premium': {}}, {'Country': 'Costa Rica', 'CountryCode': 'CR', 'Slug': 'costa-rica', 'NewConfirmed': 0, 'TotalConfirmed': 162990, 'NewDeaths': 0, 'TotalDeaths': 2086, 'NewRecovered': 0, 'TotalRecovered': 128842, 'Date': '2020-12-28T12:17:19Z', 'Premium': {}}, {'Country': 'Croatia', 'CountryCode': 'HR', 'Slug': 'croatia', 'NewConfirmed': 618, 'TotalConfirmed': 204930, 'NewDeaths': 58, 'TotalDeaths': 3671, 'NewRecovered': 2171, 'TotalRecovered': 191226, 'Date': '2020-12-28T12:17:19Z', 'Premium': {}}, {'Country': 'Cuba', 'CountryCode': 'CU', 'Slug': 'cuba', 'NewConfirmed': 167, 'TotalConfirmed': 11205, 'NewDeaths': 1, 'TotalDeaths': 142, 'NewRecovered': 106, 'TotalRecovered': 9705, 'Date': '2020-12-28T12:17:19Z', 'Premium': {}}, {'Country': 'Cyprus', 'CountryCode': 'CY', 'Slug': 'cyprus', 'NewConfirmed': 266, 'TotalConfirmed': 19657, 'NewDeaths': 1, 'TotalDeaths': 112, 'NewRecovered': 0, 'TotalRecovered': 2057, 'Date': '2020-12-28T12:17:19Z', 'Premium': {}}, {'Country': 'Czech Republic', 'CountryCode': 'CZ', 'Slug': 'czech-republic', 'NewConfirmed': 3030, 'TotalConfirmed': 670599, 'NewDeaths': 94, 'TotalDeaths': 11044, 'NewRecovered': 2387, 'TotalRecovered': 565841, 'Date': '2020-12-28T12:17:19Z', 'Premium': {}}, {'Country': \"Côte d'Ivoire\", 'CountryCode': 'CI', 'Slug': 'cote-divoire', 'NewConfirmed': 71, 'TotalConfirmed': 22152, 'NewDeaths': 2, 'TotalDeaths': 135, 'NewRecovered': 55, 'TotalRecovered': 21752, 'Date': '2020-12-28T12:17:19Z', 'Premium': {}}, {'Country': 'Denmark', 'CountryCode': 'DK', 'Slug': 'denmark', 'NewConfirmed': 2188, 'TotalConfirmed': 153952, 'NewDeaths': 21, 'TotalDeaths': 1174, 'NewRecovered': 3060, 'TotalRecovered': 112268, 'Date': '2020-12-28T12:17:19Z', 'Premium': {}}, {'Country': 'Djibouti', 'CountryCode': 'DJ', 'Slug': 'djibouti', 'NewConfirmed': 8, 'TotalConfirmed': 5813, 'NewDeaths': 0, 'TotalDeaths': 61, 'NewRecovered': 7, 'TotalRecovered': 5706, 'Date': '2020-12-28T12:17:19Z', 'Premium': {}}, {'Country': 'Dominica', 'CountryCode': 'DM', 'Slug': 'dominica', 'NewConfirmed': 0, 'TotalConfirmed': 88, 'NewDeaths': 0, 'TotalDeaths': 0, 'NewRecovered': 0, 'TotalRecovered': 83, 'Date': '2020-12-28T12:17:19Z', 'Premium': {}}, {'Country': 'Dominican Republic', 'CountryCode': 'DO', 'Slug': 'dominican-republic', 'NewConfirmed': 824, 'TotalConfirmed': 166764, 'NewDeaths': 0, 'TotalDeaths': 2404, 'NewRecovered': 738, 'TotalRecovered': 128604, 'Date': '2020-12-28T12:17:19Z', 'Premium': {}}, {'Country': 'Ecuador', 'CountryCode': 'EC', 'Slug': 'ecuador', 'NewConfirmed': 81, 'TotalConfirmed': 209355, 'NewDeaths': 2, 'TotalDeaths': 13992, 'NewRecovered': 2889, 'TotalRecovered': 184507, 'Date': '2020-12-28T12:17:19Z', 'Premium': {}}, {'Country': 'Egypt', 'CountryCode': 'EG', 'Slug': 'egypt', 'NewConfirmed': 1226, 'TotalConfirmed': 132541, 'NewDeaths': 53, 'TotalDeaths': 7405, 'NewRecovered': 553, 'TotalRecovered': 110015, 'Date': '2020-12-28T12:17:19Z', 'Premium': {}}, {'Country': 'El Salvador', 'CountryCode': 'SV', 'Slug': 'el-salvador', 'NewConfirmed': 0, 'TotalConfirmed': 44619, 'NewDeaths': 8, 'TotalDeaths': 1305, 'NewRecovered': 0, 'TotalRecovered': 39989, 'Date': '2020-12-28T12:17:19Z', 'Premium': {}}, {'Country': 'Equatorial Guinea', 'CountryCode': 'GQ', 'Slug': 'equatorial-guinea', 'NewConfirmed': 12, 'TotalConfirmed': 5248, 'NewDeaths': 1, 'TotalDeaths': 86, 'NewRecovered': 19, 'TotalRecovered': 5097, 'Date': '2020-12-28T12:17:19Z', 'Premium': {}}, {'Country': 'Eritrea', 'CountryCode': 'ER', 'Slug': 'eritrea', 'NewConfirmed': 47, 'TotalConfirmed': 1039, 'NewDeaths': 0, 'TotalDeaths': 1, 'NewRecovered': 23, 'TotalRecovered': 623, 'Date': '2020-12-28T12:17:19Z', 'Premium': {}}, {'Country': 'Estonia', 'CountryCode': 'EE', 'Slug': 'estonia', 'NewConfirmed': 365, 'TotalConfirmed': 25392, 'NewDeaths': 0, 'TotalDeaths': 204, 'NewRecovered': 134, 'TotalRecovered': 15822, 'Date': '2020-12-28T12:17:19Z', 'Premium': {}}, {'Country': 'Ethiopia', 'CountryCode': 'ET', 'Slug': 'ethiopia', 'NewConfirmed': 451, 'TotalConfirmed': 122864, 'NewDeaths': 8, 'TotalDeaths': 1909, 'NewRecovered': 1024, 'TotalRecovered': 109293, 'Date': '2020-12-28T12:17:19Z', 'Premium': {}}, {'Country': 'Fiji', 'CountryCode': 'FJ', 'Slug': 'fiji', 'NewConfirmed': 0, 'TotalConfirmed': 46, 'NewDeaths': 0, 'TotalDeaths': 2, 'NewRecovered': 0, 'TotalRecovered': 44, 'Date': '2020-12-28T12:17:19Z', 'Premium': {}}, {'Country': 'Finland', 'CountryCode': 'FI', 'Slug': 'finland', 'NewConfirmed': 156, 'TotalConfirmed': 34977, 'NewDeaths': 0, 'TotalDeaths': 524, 'NewRecovered': 0, 'TotalRecovered': 26000, 'Date': '2020-12-28T12:17:19Z', 'Premium': {}}, {'Country': 'France', 'CountryCode': 'FR', 'Slug': 'france', 'NewConfirmed': 8822, 'TotalConfirmed': 2616510, 'NewDeaths': 173, 'TotalDeaths': 62867, 'NewRecovered': 223, 'TotalRecovered': 195861, 'Date': '2020-12-28T12:17:19Z', 'Premium': {}}, {'Country': 'Gabon', 'CountryCode': 'GA', 'Slug': 'gabon', 'NewConfirmed': 0, 'TotalConfirmed': 9497, 'NewDeaths': 0, 'TotalDeaths': 64, 'NewRecovered': 0, 'TotalRecovered': 9331, 'Date': '2020-12-28T12:17:19Z', 'Premium': {}}, {'Country': 'Gambia', 'CountryCode': 'GM', 'Slug': 'gambia', 'NewConfirmed': 2, 'TotalConfirmed': 3793, 'NewDeaths': 0, 'TotalDeaths': 123, 'NewRecovered': 1, 'TotalRecovered': 3660, 'Date': '2020-12-28T12:17:19Z', 'Premium': {}}, {'Country': 'Georgia', 'CountryCode': 'GE', 'Slug': 'georgia', 'NewConfirmed': 1097, 'TotalConfirmed': 221605, 'NewDeaths': 25, 'TotalDeaths': 2377, 'NewRecovered': 3208, 'TotalRecovered': 203547, 'Date': '2020-12-28T12:17:19Z', 'Premium': {}}, {'Country': 'Germany', 'CountryCode': 'DE', 'Slug': 'germany', 'NewConfirmed': 12399, 'TotalConfirmed': 1658639, 'NewDeaths': 351, 'TotalDeaths': 30297, 'NewRecovered': 18747, 'TotalRecovered': 1272032, 'Date': '2020-12-28T12:17:19Z', 'Premium': {}}, {'Country': 'Ghana', 'CountryCode': 'GH', 'Slug': 'ghana', 'NewConfirmed': 115, 'TotalConfirmed': 54401, 'NewDeaths': 0, 'TotalDeaths': 333, 'NewRecovered': 98, 'TotalRecovered': 53180, 'Date': '2020-12-28T12:17:19Z', 'Premium': {}}, {'Country': 'Greece', 'CountryCode': 'GR', 'Slug': 'greece', 'NewConfirmed': 342, 'TotalConfirmed': 135456, 'NewDeaths': 53, 'TotalDeaths': 4606, 'NewRecovered': 0, 'TotalRecovered': 93764, 'Date': '2020-12-28T12:17:19Z', 'Premium': {}}, {'Country': 'Grenada', 'CountryCode': 'GD', 'Slug': 'grenada', 'NewConfirmed': 0, 'TotalConfirmed': 112, 'NewDeaths': 0, 'TotalDeaths': 0, 'NewRecovered': 0, 'TotalRecovered': 57, 'Date': '2020-12-28T12:17:19Z', 'Premium': {}}, {'Country': 'Guatemala', 'CountryCode': 'GT', 'Slug': 'guatemala', 'NewConfirmed': 138, 'TotalConfirmed': 135309, 'NewDeaths': 5, 'TotalDeaths': 4768, 'NewRecovered': 374, 'TotalRecovered': 124267, 'Date': '2020-12-28T12:17:19Z', 'Premium': {}}, {'Country': 'Guinea', 'CountryCode': 'GN', 'Slug': 'guinea', 'NewConfirmed': 28, 'TotalConfirmed': 13674, 'NewDeaths': 0, 'TotalDeaths': 80, 'NewRecovered': 18, 'TotalRecovered': 13067, 'Date': '2020-12-28T12:17:19Z', 'Premium': {}}, {'Country': 'Guinea-Bissau', 'CountryCode': 'GW', 'Slug': 'guinea-bissau', 'NewConfirmed': 0, 'TotalConfirmed': 2447, 'NewDeaths': 0, 'TotalDeaths': 45, 'NewRecovered': 0, 'TotalRecovered': 2386, 'Date': '2020-12-28T12:17:19Z', 'Premium': {}}, {'Country': 'Guyana', 'CountryCode': 'GY', 'Slug': 'guyana', 'NewConfirmed': 4, 'TotalConfirmed': 6293, 'NewDeaths': 2, 'TotalDeaths': 164, 'NewRecovered': 28, 'TotalRecovered': 5680, 'Date': '2020-12-28T12:17:19Z', 'Premium': {}}, {'Country': 'Haiti', 'CountryCode': 'HT', 'Slug': 'haiti', 'NewConfirmed': 142, 'TotalConfirmed': 9947, 'NewDeaths': 1, 'TotalDeaths': 235, 'NewRecovered': 150, 'TotalRecovered': 8563, 'Date': '2020-12-28T12:17:19Z', 'Premium': {}}, {'Country': 'Holy See (Vatican City State)', 'CountryCode': 'VA', 'Slug': 'holy-see-vatican-city-state', 'NewConfirmed': 0, 'TotalConfirmed': 27, 'NewDeaths': 0, 'TotalDeaths': 0, 'NewRecovered': 0, 'TotalRecovered': 15, 'Date': '2020-12-28T12:17:19Z', 'Premium': {}}, {'Country': 'Honduras', 'CountryCode': 'HN', 'Slug': 'honduras', 'NewConfirmed': 0, 'TotalConfirmed': 119097, 'NewDeaths': 0, 'TotalDeaths': 3065, 'NewRecovered': 0, 'TotalRecovered': 55704, 'Date': '2020-12-28T12:17:19Z', 'Premium': {}}, {'Country': 'Hungary', 'CountryCode': 'HU', 'Slug': 'hungary', 'NewConfirmed': 698, 'TotalConfirmed': 316060, 'NewDeaths': 96, 'TotalDeaths': 9047, 'NewRecovered': 3938, 'TotalRecovered': 130420, 'Date': '2020-12-28T12:17:19Z', 'Premium': {}}, {'Country': 'Iceland', 'CountryCode': 'IS', 'Slug': 'iceland', 'NewConfirmed': 0, 'TotalConfirmed': 5683, 'NewDeaths': 0, 'TotalDeaths': 28, 'NewRecovered': 0, 'TotalRecovered': 5506, 'Date': '2020-12-28T12:17:19Z', 'Premium': {}}, {'Country': 'India', 'CountryCode': 'IN', 'Slug': 'india', 'NewConfirmed': 20021, 'TotalConfirmed': 10207871, 'NewDeaths': 279, 'TotalDeaths': 147901, 'NewRecovered': 21131, 'TotalRecovered': 9782669, 'Date': '2020-12-28T12:17:19Z', 'Premium': {}}, {'Country': 'Indonesia', 'CountryCode': 'ID', 'Slug': 'indonesia', 'NewConfirmed': 6528, 'TotalConfirmed': 713365, 'NewDeaths': 243, 'TotalDeaths': 21237, 'NewRecovered': 6983, 'TotalRecovered': 583676, 'Date': '2020-12-28T12:17:19Z', 'Premium': {}}, {'Country': 'Iran, Islamic Republic of', 'CountryCode': 'IR', 'Slug': 'iran', 'NewConfirmed': 5502, 'TotalConfirmed': 1200465, 'NewDeaths': 119, 'TotalDeaths': 54693, 'NewRecovered': 9312, 'TotalRecovered': 951860, 'Date': '2020-12-28T12:17:19Z', 'Premium': {}}, {'Country': 'Iraq', 'CountryCode': 'IQ', 'Slug': 'iraq', 'NewConfirmed': 818, 'TotalConfirmed': 591597, 'NewDeaths': 13, 'TotalDeaths': 12780, 'NewRecovered': 1541, 'TotalRecovered': 531803, 'Date': '2020-12-28T12:17:19Z', 'Premium': {}}, {'Country': 'Ireland', 'CountryCode': 'IE', 'Slug': 'ireland', 'NewConfirmed': 735, 'TotalConfirmed': 86129, 'NewDeaths': 4, 'TotalDeaths': 2204, 'NewRecovered': 0, 'TotalRecovered': 23364, 'Date': '2020-12-28T12:17:19Z', 'Premium': {}}, {'Country': 'Israel', 'CountryCode': 'IL', 'Slug': 'israel', 'NewConfirmed': 2806, 'TotalConfirmed': 401470, 'NewDeaths': 16, 'TotalDeaths': 3226, 'NewRecovered': 4029, 'TotalRecovered': 364013, 'Date': '2020-12-28T12:17:19Z', 'Premium': {}}, {'Country': 'Italy', 'CountryCode': 'IT', 'Slug': 'italy', 'NewConfirmed': 8937, 'TotalConfirmed': 2047696, 'NewDeaths': 305, 'TotalDeaths': 71925, 'NewRecovered': 7813, 'TotalRecovered': 1394011, 'Date': '2020-12-28T12:17:19Z', 'Premium': {}}, {'Country': 'Jamaica', 'CountryCode': 'JM', 'Slug': 'jamaica', 'NewConfirmed': 39, 'TotalConfirmed': 12723, 'NewDeaths': 1, 'TotalDeaths': 295, 'NewRecovered': 138, 'TotalRecovered': 10019, 'Date': '2020-12-28T12:17:19Z', 'Premium': {}}, {'Country': 'Japan', 'CountryCode': 'JP', 'Slug': 'japan', 'NewConfirmed': 2945, 'TotalConfirmed': 221412, 'NewDeaths': 38, 'TotalDeaths': 3100, 'NewRecovered': 2408, 'TotalRecovered': 182440, 'Date': '2020-12-28T12:17:19Z', 'Premium': {}}, {'Country': 'Jordan', 'CountryCode': 'JO', 'Slug': 'jordan', 'NewConfirmed': 1590, 'TotalConfirmed': 287946, 'NewDeaths': 29, 'TotalDeaths': 3758, 'NewRecovered': 2863, 'TotalRecovered': 261514, 'Date': '2020-12-28T12:17:19Z', 'Premium': {}}, {'Country': 'Kazakhstan', 'CountryCode': 'KZ', 'Slug': 'kazakhstan', 'NewConfirmed': 760, 'TotalConfirmed': 197902, 'NewDeaths': 0, 'TotalDeaths': 2686, 'NewRecovered': 875, 'TotalRecovered': 172673, 'Date': '2020-12-28T12:17:19Z', 'Premium': {}}, {'Country': 'Kenya', 'CountryCode': 'KE', 'Slug': 'kenya', 'NewConfirmed': 80, 'TotalConfirmed': 95923, 'NewDeaths': 3, 'TotalDeaths': 1658, 'NewRecovered': 425, 'TotalRecovered': 77423, 'Date': '2020-12-28T12:17:19Z', 'Premium': {}}, {'Country': 'Korea (South)', 'CountryCode': 'KR', 'Slug': 'korea-south', 'NewConfirmed': 808, 'TotalConfirmed': 57680, 'NewDeaths': 11, 'TotalDeaths': 819, 'NewRecovered': 228, 'TotalRecovered': 39268, 'Date': '2020-12-28T12:17:19Z', 'Premium': {}}, {'Country': 'Kuwait', 'CountryCode': 'KW', 'Slug': 'kuwait', 'NewConfirmed': 204, 'TotalConfirmed': 149653, 'NewDeaths': 2, 'TotalDeaths': 931, 'NewRecovered': 199, 'TotalRecovered': 145579, 'Date': '2020-12-28T12:17:19Z', 'Premium': {}}, {'Country': 'Kyrgyzstan', 'CountryCode': 'KG', 'Slug': 'kyrgyzstan', 'NewConfirmed': 191, 'TotalConfirmed': 80373, 'NewDeaths': 4, 'TotalDeaths': 1348, 'NewRecovered': 343, 'TotalRecovered': 74820, 'Date': '2020-12-28T12:17:19Z', 'Premium': {}}, {'Country': 'Lao PDR', 'CountryCode': 'LA', 'Slug': 'lao-pdr', 'NewConfirmed': 0, 'TotalConfirmed': 41, 'NewDeaths': 0, 'TotalDeaths': 0, 'NewRecovered': 0, 'TotalRecovered': 37, 'Date': '2020-12-28T12:17:19Z', 'Premium': {}}, {'Country': 'Latvia', 'CountryCode': 'LV', 'Slug': 'latvia', 'NewConfirmed': 511, 'TotalConfirmed': 36330, 'NewDeaths': 44, 'TotalDeaths': 559, 'NewRecovered': 604, 'TotalRecovered': 25326, 'Date': '2020-12-28T12:17:19Z', 'Premium': {}}, {'Country': 'Lebanon', 'CountryCode': 'LB', 'Slug': 'lebanon', 'NewConfirmed': 1754, 'TotalConfirmed': 171226, 'NewDeaths': 15, 'TotalDeaths': 1394, 'NewRecovered': 1877, 'TotalRecovered': 122657, 'Date': '2020-12-28T12:17:19Z', 'Premium': {}}, {'Country': 'Lesotho', 'CountryCode': 'LS', 'Slug': 'lesotho', 'NewConfirmed': 0, 'TotalConfirmed': 2725, 'NewDeaths': 0, 'TotalDeaths': 51, 'NewRecovered': 0, 'TotalRecovered': 1466, 'Date': '2020-12-28T12:17:19Z', 'Premium': {}}, {'Country': 'Liberia', 'CountryCode': 'LR', 'Slug': 'liberia', 'NewConfirmed': 0, 'TotalConfirmed': 1779, 'NewDeaths': 0, 'TotalDeaths': 83, 'NewRecovered': 0, 'TotalRecovered': 1406, 'Date': '2020-12-28T12:17:19Z', 'Premium': {}}, {'Country': 'Libya', 'CountryCode': 'LY', 'Slug': 'libya', 'NewConfirmed': 728, 'TotalConfirmed': 98381, 'NewDeaths': 21, 'TotalDeaths': 1436, 'NewRecovered': 701, 'TotalRecovered': 68990, 'Date': '2020-12-28T12:17:19Z', 'Premium': {}}, {'Country': 'Liechtenstein', 'CountryCode': 'LI', 'Slug': 'liechtenstein', 'NewConfirmed': 18, 'TotalConfirmed': 2018, 'NewDeaths': 0, 'TotalDeaths': 31, 'NewRecovered': 0, 'TotalRecovered': 1591, 'Date': '2020-12-28T12:17:19Z', 'Premium': {}}, {'Country': 'Lithuania', 'CountryCode': 'LT', 'Slug': 'lithuania', 'NewConfirmed': 1667, 'TotalConfirmed': 130598, 'NewDeaths': 26, 'TotalDeaths': 1254, 'NewRecovered': 406, 'TotalRecovered': 61751, 'Date': '2020-12-28T12:17:19Z', 'Premium': {}}, {'Country': 'Luxembourg', 'CountryCode': 'LU', 'Slug': 'luxembourg', 'NewConfirmed': 0, 'TotalConfirmed': 45209, 'NewDeaths': 0, 'TotalDeaths': 458, 'NewRecovered': 0, 'TotalRecovered': 37574, 'Date': '2020-12-28T12:17:19Z', 'Premium': {}}, {'Country': 'Macao, SAR China', 'CountryCode': 'MO', 'Slug': 'macao-sar-china', 'NewConfirmed': 0, 'TotalConfirmed': 0, 'NewDeaths': 0, 'TotalDeaths': 0, 'NewRecovered': 0, 'TotalRecovered': 0, 'Date': '2020-12-28T12:17:19Z', 'Premium': {}}, {'Country': 'Macedonia, Republic of', 'CountryCode': 'MK', 'Slug': 'macedonia', 'NewConfirmed': 296, 'TotalConfirmed': 81721, 'NewDeaths': 18, 'TotalDeaths': 2445, 'NewRecovered': 511, 'TotalRecovered': 59231, 'Date': '2020-12-28T12:17:19Z', 'Premium': {}}, {'Country': 'Madagascar', 'CountryCode': 'MG', 'Slug': 'madagascar', 'NewConfirmed': 81, 'TotalConfirmed': 17714, 'NewDeaths': 1, 'TotalDeaths': 261, 'NewRecovered': 81, 'TotalRecovered': 17228, 'Date': '2020-12-28T12:17:19Z', 'Premium': {}}, {'Country': 'Malawi', 'CountryCode': 'MW', 'Slug': 'malawi', 'NewConfirmed': 11, 'TotalConfirmed': 6354, 'NewDeaths': 0, 'TotalDeaths': 188, 'NewRecovered': 2, 'TotalRecovered': 5682, 'Date': '2020-12-28T12:17:19Z', 'Premium': {}}, {'Country': 'Malaysia', 'CountryCode': 'MY', 'Slug': 'malaysia', 'NewConfirmed': 1196, 'TotalConfirmed': 105096, 'NewDeaths': 1, 'TotalDeaths': 452, 'NewRecovered': 997, 'TotalRecovered': 84411, 'Date': '2020-12-28T12:17:19Z', 'Premium': {}}, {'Country': 'Maldives', 'CountryCode': 'MV', 'Slug': 'maldives', 'NewConfirmed': 26, 'TotalConfirmed': 13644, 'NewDeaths': 0, 'TotalDeaths': 48, 'NewRecovered': 22, 'TotalRecovered': 13072, 'Date': '2020-12-28T12:17:19Z', 'Premium': {}}, {'Country': 'Mali', 'CountryCode': 'ML', 'Slug': 'mali', 'NewConfirmed': 55, 'TotalConfirmed': 6629, 'NewDeaths': 4, 'TotalDeaths': 253, 'NewRecovered': 217, 'TotalRecovered': 4421, 'Date': '2020-12-28T12:17:19Z', 'Premium': {}}, {'Country': 'Malta', 'CountryCode': 'MT', 'Slug': 'malta', 'NewConfirmed': 84, 'TotalConfirmed': 12325, 'NewDeaths': 4, 'TotalDeaths': 210, 'NewRecovered': 118, 'TotalRecovered': 10668, 'Date': '2020-12-28T12:17:19Z', 'Premium': {}}, {'Country': 'Marshall Islands', 'CountryCode': 'MH', 'Slug': 'marshall-islands', 'NewConfirmed': 0, 'TotalConfirmed': 4, 'NewDeaths': 0, 'TotalDeaths': 0, 'NewRecovered': 0, 'TotalRecovered': 4, 'Date': '2020-12-28T12:17:19Z', 'Premium': {}}, {'Country': 'Mauritania', 'CountryCode': 'MR', 'Slug': 'mauritania', 'NewConfirmed': 126, 'TotalConfirmed': 13642, 'NewDeaths': 3, 'TotalDeaths': 324, 'NewRecovered': 232, 'TotalRecovered': 10297, 'Date': '2020-12-28T12:17:19Z', 'Premium': {}}, {'Country': 'Mauritius', 'CountryCode': 'MU', 'Slug': 'mauritius', 'NewConfirmed': 0, 'TotalConfirmed': 527, 'NewDeaths': 0, 'TotalDeaths': 10, 'NewRecovered': 0, 'TotalRecovered': 496, 'Date': '2020-12-28T12:17:19Z', 'Premium': {}}, {'Country': 'Mexico', 'CountryCode': 'MX', 'Slug': 'mexico', 'NewConfirmed': 6217, 'TotalConfirmed': 1383434, 'NewDeaths': 400, 'TotalDeaths': 122426, 'NewRecovered': 6902, 'TotalRecovered': 1038766, 'Date': '2020-12-28T12:17:19Z', 'Premium': {}}, {'Country': 'Moldova', 'CountryCode': 'MD', 'Slug': 'moldova', 'NewConfirmed': 359, 'TotalConfirmed': 141355, 'NewDeaths': 8, 'TotalDeaths': 2891, 'NewRecovered': 753, 'TotalRecovered': 127404, 'Date': '2020-12-28T12:17:19Z', 'Premium': {}}, {'Country': 'Monaco', 'CountryCode': 'MC', 'Slug': 'monaco', 'NewConfirmed': 0, 'TotalConfirmed': 797, 'NewDeaths': 0, 'TotalDeaths': 3, 'NewRecovered': 0, 'TotalRecovered': 673, 'Date': '2020-12-28T12:17:19Z', 'Premium': {}}, {'Country': 'Mongolia', 'CountryCode': 'MN', 'Slug': 'mongolia', 'NewConfirmed': 16, 'TotalConfirmed': 1137, 'NewDeaths': 0, 'TotalDeaths': 0, 'NewRecovered': 0, 'TotalRecovered': 711, 'Date': '2020-12-28T12:17:19Z', 'Premium': {}}, {'Country': 'Montenegro', 'CountryCode': 'ME', 'Slug': 'montenegro', 'NewConfirmed': 367, 'TotalConfirmed': 46694, 'NewDeaths': 8, 'TotalDeaths': 666, 'NewRecovered': 620, 'TotalRecovered': 36993, 'Date': '2020-12-28T12:17:19Z', 'Premium': {}}, {'Country': 'Morocco', 'CountryCode': 'MA', 'Slug': 'morocco', 'NewConfirmed': 1517, 'TotalConfirmed': 432079, 'NewDeaths': 36, 'TotalDeaths': 7240, 'NewRecovered': 1965, 'TotalRecovered': 398060, 'Date': '2020-12-28T12:17:19Z', 'Premium': {}}, {'Country': 'Mozambique', 'CountryCode': 'MZ', 'Slug': 'mozambique', 'NewConfirmed': 103, 'TotalConfirmed': 18265, 'NewDeaths': 2, 'TotalDeaths': 161, 'NewRecovered': 10, 'TotalRecovered': 16119, 'Date': '2020-12-28T12:17:19Z', 'Premium': {}}, {'Country': 'Myanmar', 'CountryCode': 'MM', 'Slug': 'myanmar', 'NewConfirmed': 606, 'TotalConfirmed': 121886, 'NewDeaths': 22, 'TotalDeaths': 2601, 'NewRecovered': 1060, 'TotalRecovered': 103223, 'Date': '2020-12-28T12:17:19Z', 'Premium': {}}, {'Country': 'Namibia', 'CountryCode': 'NA', 'Slug': 'namibia', 'NewConfirmed': 525, 'TotalConfirmed': 21923, 'NewDeaths': 4, 'TotalDeaths': 191, 'NewRecovered': 188, 'TotalRecovered': 18039, 'Date': '2020-12-28T12:17:19Z', 'Premium': {}}, {'Country': 'Nepal', 'CountryCode': 'NP', 'Slug': 'nepal', 'NewConfirmed': 481, 'TotalConfirmed': 258181, 'NewDeaths': 6, 'TotalDeaths': 1825, 'NewRecovered': 731, 'TotalRecovered': 249863, 'Date': '2020-12-28T12:17:19Z', 'Premium': {}}, {'Country': 'Netherlands', 'CountryCode': 'NL', 'Slug': 'netherlands', 'NewConfirmed': 9080, 'TotalConfirmed': 762985, 'NewDeaths': 28, 'TotalDeaths': 10998, 'NewRecovered': 0, 'TotalRecovered': 0, 'Date': '2020-12-28T12:17:19Z', 'Premium': {}}, {'Country': 'New Zealand', 'CountryCode': 'NZ', 'Slug': 'new-zealand', 'NewConfirmed': 0, 'TotalConfirmed': 2144, 'NewDeaths': 0, 'TotalDeaths': 25, 'NewRecovered': 0, 'TotalRecovered': 2069, 'Date': '2020-12-28T12:17:19Z', 'Premium': {}}, {'Country': 'Nicaragua', 'CountryCode': 'NI', 'Slug': 'nicaragua', 'NewConfirmed': 0, 'TotalConfirmed': 5991, 'NewDeaths': 0, 'TotalDeaths': 164, 'NewRecovered': 0, 'TotalRecovered': 4225, 'Date': '2020-12-28T12:17:19Z', 'Premium': {}}, {'Country': 'Niger', 'CountryCode': 'NE', 'Slug': 'niger', 'NewConfirmed': 53, 'TotalConfirmed': 3110, 'NewDeaths': 2, 'TotalDeaths': 96, 'NewRecovered': 0, 'TotalRecovered': 1673, 'Date': '2020-12-28T12:17:19Z', 'Premium': {}}, {'Country': 'Nigeria', 'CountryCode': 'NG', 'Slug': 'nigeria', 'NewConfirmed': 838, 'TotalConfirmed': 84414, 'NewDeaths': 7, 'TotalDeaths': 1254, 'NewRecovered': 539, 'TotalRecovered': 71034, 'Date': '2020-12-28T12:17:19Z', 'Premium': {}}, {'Country': 'Norway', 'CountryCode': 'NO', 'Slug': 'norway', 'NewConfirmed': 381, 'TotalConfirmed': 47059, 'NewDeaths': 0, 'TotalDeaths': 421, 'NewRecovered': 0, 'TotalRecovered': 17998, 'Date': '2020-12-28T12:17:19Z', 'Premium': {}}, {'Country': 'Oman', 'CountryCode': 'OM', 'Slug': 'oman', 'NewConfirmed': 182, 'TotalConfirmed': 128472, 'NewDeaths': 4, 'TotalDeaths': 1495, 'NewRecovered': 535, 'TotalRecovered': 120976, 'Date': '2020-12-28T12:17:19Z', 'Premium': {}}, {'Country': 'Pakistan', 'CountryCode': 'PK', 'Slug': 'pakistan', 'NewConfirmed': 1974, 'TotalConfirmed': 473309, 'NewDeaths': 55, 'TotalDeaths': 9929, 'NewRecovered': 1760, 'TotalRecovered': 423892, 'Date': '2020-12-28T12:17:19Z', 'Premium': {}}, {'Country': 'Palestinian Territory', 'CountryCode': 'PS', 'Slug': 'palestine', 'NewConfirmed': 1189, 'TotalConfirmed': 133093, 'NewDeaths': 28, 'TotalDeaths': 1309, 'NewRecovered': 1259, 'TotalRecovered': 109377, 'Date': '2020-12-28T12:17:19Z', 'Premium': {}}, {'Country': 'Panama', 'CountryCode': 'PA', 'Slug': 'panama', 'NewConfirmed': 2633, 'TotalConfirmed': 231357, 'NewDeaths': 41, 'TotalDeaths': 3840, 'NewRecovered': 2444, 'TotalRecovered': 185966, 'Date': '2020-12-28T12:17:19Z', 'Premium': {}}, {'Country': 'Papua New Guinea', 'CountryCode': 'PG', 'Slug': 'papua-new-guinea', 'NewConfirmed': 0, 'TotalConfirmed': 780, 'NewDeaths': 0, 'TotalDeaths': 9, 'NewRecovered': 0, 'TotalRecovered': 661, 'Date': '2020-12-28T12:17:19Z', 'Premium': {}}, {'Country': 'Paraguay', 'CountryCode': 'PY', 'Slug': 'paraguay', 'NewConfirmed': 260, 'TotalConfirmed': 104422, 'NewDeaths': 14, 'TotalDeaths': 2188, 'NewRecovered': 903, 'TotalRecovered': 78262, 'Date': '2020-12-28T12:17:19Z', 'Premium': {}}, {'Country': 'Peru', 'CountryCode': 'PE', 'Slug': 'peru', 'NewConfirmed': 0, 'TotalConfirmed': 1005546, 'NewDeaths': 0, 'TotalDeaths': 37368, 'NewRecovered': 1969, 'TotalRecovered': 943637, 'Date': '2020-12-28T12:17:19Z', 'Premium': {}}, {'Country': 'Philippines', 'CountryCode': 'PH', 'Slug': 'philippines', 'NewConfirmed': 881, 'TotalConfirmed': 469886, 'NewDeaths': 42, 'TotalDeaths': 9109, 'NewRecovered': 7623, 'TotalRecovered': 438678, 'Date': '2020-12-28T12:17:19Z', 'Premium': {}}, {'Country': 'Poland', 'CountryCode': 'PL', 'Slug': 'poland', 'NewConfirmed': 3842, 'TotalConfirmed': 1257799, 'NewDeaths': 57, 'TotalDeaths': 27118, 'NewRecovered': 7229, 'TotalRecovered': 999610, 'Date': '2020-12-28T12:17:19Z', 'Premium': {}}, {'Country': 'Portugal', 'CountryCode': 'PT', 'Slug': 'portugal', 'NewConfirmed': 1577, 'TotalConfirmed': 394573, 'NewDeaths': 63, 'TotalDeaths': 6619, 'NewRecovered': 3075, 'TotalRecovered': 319746, 'Date': '2020-12-28T12:17:19Z', 'Premium': {}}, {'Country': 'Qatar', 'CountryCode': 'QA', 'Slug': 'qatar', 'NewConfirmed': 159, 'TotalConfirmed': 143062, 'NewDeaths': 0, 'TotalDeaths': 244, 'NewRecovered': 179, 'TotalRecovered': 140866, 'Date': '2020-12-28T12:17:19Z', 'Premium': {}}, {'Country': 'Republic of Kosovo', 'CountryCode': 'XK', 'Slug': 'kosovo', 'NewConfirmed': 215, 'TotalConfirmed': 50620, 'NewDeaths': 4, 'TotalDeaths': 1309, 'NewRecovered': 428, 'TotalRecovered': 39564, 'Date': '2020-12-28T12:17:19Z', 'Premium': {}}, {'Country': 'Romania', 'CountryCode': 'RO', 'Slug': 'romania', 'NewConfirmed': 2049, 'TotalConfirmed': 615809, 'NewDeaths': 122, 'TotalDeaths': 15230, 'NewRecovered': 4105, 'TotalRecovered': 540437, 'Date': '2020-12-28T12:17:19Z', 'Premium': {}}, {'Country': 'Russian Federation', 'CountryCode': 'RU', 'Slug': 'russia', 'NewConfirmed': 27849, 'TotalConfirmed': 3019972, 'NewDeaths': 541, 'TotalDeaths': 54080, 'NewRecovered': 23972, 'TotalRecovered': 2426094, 'Date': '2020-12-28T12:17:19Z', 'Premium': {}}, {'Country': 'Rwanda', 'CountryCode': 'RW', 'Slug': 'rwanda', 'NewConfirmed': 153, 'TotalConfirmed': 7970, 'NewDeaths': 2, 'TotalDeaths': 74, 'NewRecovered': 62, 'TotalRecovered': 6289, 'Date': '2020-12-28T12:17:19Z', 'Premium': {}}, {'Country': 'Réunion', 'CountryCode': 'RE', 'Slug': 'réunion', 'NewConfirmed': 0, 'TotalConfirmed': 0, 'NewDeaths': 0, 'TotalDeaths': 0, 'NewRecovered': 0, 'TotalRecovered': 0, 'Date': '2020-12-28T12:17:19Z', 'Premium': {}}, {'Country': 'Saint Kitts and Nevis', 'CountryCode': 'KN', 'Slug': 'saint-kitts-and-nevis', 'NewConfirmed': 2, 'TotalConfirmed': 32, 'NewDeaths': 0, 'TotalDeaths': 0, 'NewRecovered': 1, 'TotalRecovered': 27, 'Date': '2020-12-28T12:17:19Z', 'Premium': {}}, {'Country': 'Saint Lucia', 'CountryCode': 'LC', 'Slug': 'saint-lucia', 'NewConfirmed': 0, 'TotalConfirmed': 305, 'NewDeaths': 0, 'TotalDeaths': 5, 'NewRecovered': 0, 'TotalRecovered': 267, 'Date': '2020-12-28T12:17:19Z', 'Premium': {}}, {'Country': 'Saint Vincent and Grenadines', 'CountryCode': 'VC', 'Slug': 'saint-vincent-and-the-grenadines', 'NewConfirmed': 0, 'TotalConfirmed': 109, 'NewDeaths': 0, 'TotalDeaths': 0, 'NewRecovered': 0, 'TotalRecovered': 87, 'Date': '2020-12-28T12:17:19Z', 'Premium': {}}, {'Country': 'Samoa', 'CountryCode': 'WS', 'Slug': 'samoa', 'NewConfirmed': 0, 'TotalConfirmed': 2, 'NewDeaths': 0, 'TotalDeaths': 0, 'NewRecovered': 0, 'TotalRecovered': 2, 'Date': '2020-12-28T12:17:19Z', 'Premium': {}}, {'Country': 'San Marino', 'CountryCode': 'SM', 'Slug': 'san-marino', 'NewConfirmed': 0, 'TotalConfirmed': 2231, 'NewDeaths': 0, 'TotalDeaths': 56, 'NewRecovered': 0, 'TotalRecovered': 1863, 'Date': '2020-12-28T12:17:19Z', 'Premium': {}}, {'Country': 'Sao Tome and Principe', 'CountryCode': 'ST', 'Slug': 'sao-tome-and-principe', 'NewConfirmed': 0, 'TotalConfirmed': 1014, 'NewDeaths': 0, 'TotalDeaths': 17, 'NewRecovered': 0, 'TotalRecovered': 963, 'Date': '2020-12-28T12:17:19Z', 'Premium': {}}, {'Country': 'Saudi Arabia', 'CountryCode': 'SA', 'Slug': 'saudi-arabia', 'NewConfirmed': 154, 'TotalConfirmed': 362220, 'NewDeaths': 9, 'TotalDeaths': 6185, 'NewRecovered': 175, 'TotalRecovered': 353179, 'Date': '2020-12-28T12:17:19Z', 'Premium': {}}, {'Country': 'Senegal', 'CountryCode': 'SN', 'Slug': 'senegal', 'NewConfirmed': 86, 'TotalConfirmed': 18609, 'NewDeaths': 1, 'TotalDeaths': 388, 'NewRecovered': 55, 'TotalRecovered': 16936, 'Date': '2020-12-28T12:17:19Z', 'Premium': {}}, {'Country': 'Serbia', 'CountryCode': 'RS', 'Slug': 'serbia', 'NewConfirmed': 2693, 'TotalConfirmed': 326060, 'NewDeaths': 47, 'TotalDeaths': 3030, 'NewRecovered': 0, 'TotalRecovered': 0, 'Date': '2020-12-28T12:17:19Z', 'Premium': {}}, {'Country': 'Seychelles', 'CountryCode': 'SC', 'Slug': 'seychelles', 'NewConfirmed': 0, 'TotalConfirmed': 205, 'NewDeaths': 0, 'TotalDeaths': 0, 'NewRecovered': 0, 'TotalRecovered': 184, 'Date': '2020-12-28T12:17:19Z', 'Premium': {}}, {'Country': 'Sierra Leone', 'CountryCode': 'SL', 'Slug': 'sierra-leone', 'NewConfirmed': 11, 'TotalConfirmed': 2560, 'NewDeaths': 0, 'TotalDeaths': 76, 'NewRecovered': 2, 'TotalRecovered': 1872, 'Date': '2020-12-28T12:17:19Z', 'Premium': {}}, {'Country': 'Singapore', 'CountryCode': 'SG', 'Slug': 'singapore', 'NewConfirmed': 5, 'TotalConfirmed': 58524, 'NewDeaths': 0, 'TotalDeaths': 29, 'NewRecovered': 8, 'TotalRecovered': 58370, 'Date': '2020-12-28T12:17:19Z', 'Premium': {}}, {'Country': 'Slovakia', 'CountryCode': 'SK', 'Slug': 'slovakia', 'NewConfirmed': 874, 'TotalConfirmed': 167523, 'NewDeaths': 41, 'TotalDeaths': 1773, 'NewRecovered': 2138, 'TotalRecovered': 119086, 'Date': '2020-12-28T12:17:19Z', 'Premium': {}}, {'Country': 'Slovenia', 'CountryCode': 'SI', 'Slug': 'slovenia', 'NewConfirmed': 622, 'TotalConfirmed': 114806, 'NewDeaths': 33, 'TotalDeaths': 2565, 'NewRecovered': 801, 'TotalRecovered': 93787, 'Date': '2020-12-28T12:17:19Z', 'Premium': {}}, {'Country': 'Solomon Islands', 'CountryCode': 'SB', 'Slug': 'solomon-islands', 'NewConfirmed': 0, 'TotalConfirmed': 17, 'NewDeaths': 0, 'TotalDeaths': 0, 'NewRecovered': 0, 'TotalRecovered': 5, 'Date': '2020-12-28T12:17:19Z', 'Premium': {}}, {'Country': 'Somalia', 'CountryCode': 'SO', 'Slug': 'somalia', 'NewConfirmed': 0, 'TotalConfirmed': 4690, 'NewDeaths': 0, 'TotalDeaths': 127, 'NewRecovered': 0, 'TotalRecovered': 3605, 'Date': '2020-12-28T12:17:19Z', 'Premium': {}}, {'Country': 'South Africa', 'CountryCode': 'ZA', 'Slug': 'south-africa', 'NewConfirmed': 9502, 'TotalConfirmed': 1004413, 'NewDeaths': 214, 'TotalDeaths': 26735, 'NewRecovered': 5680, 'TotalRecovered': 844874, 'Date': '2020-12-28T12:17:19Z', 'Premium': {}}, {'Country': 'South Sudan', 'CountryCode': 'SS', 'Slug': 'south-sudan', 'NewConfirmed': 35, 'TotalConfirmed': 3490, 'NewDeaths': 0, 'TotalDeaths': 62, 'NewRecovered': 0, 'TotalRecovered': 3118, 'Date': '2020-12-28T12:17:19Z', 'Premium': {}}, {'Country': 'Spain', 'CountryCode': 'ES', 'Slug': 'spain', 'NewConfirmed': 0, 'TotalConfirmed': 1854951, 'NewDeaths': 0, 'TotalDeaths': 49824, 'NewRecovered': 0, 'TotalRecovered': 150376, 'Date': '2020-12-28T12:17:19Z', 'Premium': {}}, {'Country': 'Sri Lanka', 'CountryCode': 'LK', 'Slug': 'sri-lanka', 'NewConfirmed': 674, 'TotalConfirmed': 41054, 'NewDeaths': 4, 'TotalDeaths': 191, 'NewRecovered': 650, 'TotalRecovered': 32701, 'Date': '2020-12-28T12:17:19Z', 'Premium': {}}, {'Country': 'Sudan', 'CountryCode': 'SD', 'Slug': 'sudan', 'NewConfirmed': 0, 'TotalConfirmed': 23316, 'NewDeaths': 0, 'TotalDeaths': 1468, 'NewRecovered': 0, 'TotalRecovered': 13524, 'Date': '2020-12-28T12:17:19Z', 'Premium': {}}, {'Country': 'Suriname', 'CountryCode': 'SR', 'Slug': 'suriname', 'NewConfirmed': 40, 'TotalConfirmed': 5978, 'NewDeaths': 0, 'TotalDeaths': 119, 'NewRecovered': 23, 'TotalRecovered': 5479, 'Date': '2020-12-28T12:17:19Z', 'Premium': {}}, {'Country': 'Swaziland', 'CountryCode': 'SZ', 'Slug': 'swaziland', 'NewConfirmed': 117, 'TotalConfirmed': 8484, 'NewDeaths': 2, 'TotalDeaths': 165, 'NewRecovered': 0, 'TotalRecovered': 7016, 'Date': '2020-12-28T12:17:19Z', 'Premium': {}}, {'Country': 'Sweden', 'CountryCode': 'SE', 'Slug': 'sweden', 'NewConfirmed': 0, 'TotalConfirmed': 396048, 'NewDeaths': 0, 'TotalDeaths': 8279, 'NewRecovered': 0, 'TotalRecovered': 0, 'Date': '2020-12-28T12:17:19Z', 'Premium': {}}, {'Country': 'Switzerland', 'CountryCode': 'CH', 'Slug': 'switzerland', 'NewConfirmed': 0, 'TotalConfirmed': 428197, 'NewDeaths': 17, 'TotalDeaths': 7210, 'NewRecovered': 6100, 'TotalRecovered': 317600, 'Date': '2020-12-28T12:17:19Z', 'Premium': {}}, {'Country': 'Syrian Arab Republic (Syria)', 'CountryCode': 'SY', 'Slug': 'syria', 'NewConfirmed': 101, 'TotalConfirmed': 11033, 'NewDeaths': 9, 'TotalDeaths': 678, 'NewRecovered': 48, 'TotalRecovered': 5141, 'Date': '2020-12-28T12:17:19Z', 'Premium': {}}, {'Country': 'Taiwan, Republic of China', 'CountryCode': 'TW', 'Slug': 'taiwan', 'NewConfirmed': 2, 'TotalConfirmed': 785, 'NewDeaths': 0, 'TotalDeaths': 7, 'NewRecovered': 6, 'TotalRecovered': 653, 'Date': '2020-12-28T12:17:19Z', 'Premium': {}}, {'Country': 'Tajikistan', 'CountryCode': 'TJ', 'Slug': 'tajikistan', 'NewConfirmed': 33, 'TotalConfirmed': 13205, 'NewDeaths': 0, 'TotalDeaths': 90, 'NewRecovered': 35, 'TotalRecovered': 12692, 'Date': '2020-12-28T12:17:19Z', 'Premium': {}}, {'Country': 'Tanzania, United Republic of', 'CountryCode': 'TZ', 'Slug': 'tanzania', 'NewConfirmed': 0, 'TotalConfirmed': 509, 'NewDeaths': 0, 'TotalDeaths': 21, 'NewRecovered': 0, 'TotalRecovered': 183, 'Date': '2020-12-28T12:17:19Z', 'Premium': {}}, {'Country': 'Thailand', 'CountryCode': 'TH', 'Slug': 'thailand', 'NewConfirmed': 18, 'TotalConfirmed': 6141, 'NewDeaths': 0, 'TotalDeaths': 60, 'NewRecovered': 0, 'TotalRecovered': 4161, 'Date': '2020-12-28T12:17:19Z', 'Premium': {}}, {'Country': 'Timor-Leste', 'CountryCode': 'TL', 'Slug': 'timor-leste', 'NewConfirmed': 0, 'TotalConfirmed': 41, 'NewDeaths': 0, 'TotalDeaths': 0, 'NewRecovered': 0, 'TotalRecovered': 32, 'Date': '2020-12-28T12:17:19Z', 'Premium': {}}, {'Country': 'Togo', 'CountryCode': 'TG', 'Slug': 'togo', 'NewConfirmed': 0, 'TotalConfirmed': 3555, 'NewDeaths': 0, 'TotalDeaths': 68, 'NewRecovered': 0, 'TotalRecovered': 3261, 'Date': '2020-12-28T12:17:19Z', 'Premium': {}}, {'Country': 'Trinidad and Tobago', 'CountryCode': 'TT', 'Slug': 'trinidad-and-tobago', 'NewConfirmed': 8, 'TotalConfirmed': 7112, 'NewDeaths': 0, 'TotalDeaths': 125, 'NewRecovered': 6, 'TotalRecovered': 6551, 'Date': '2020-12-28T12:17:19Z', 'Premium': {}}, {'Country': 'Tunisia', 'CountryCode': 'TN', 'Slug': 'tunisia', 'NewConfirmed': 1362, 'TotalConfirmed': 131592, 'NewDeaths': 40, 'TotalDeaths': 4466, 'NewRecovered': 693, 'TotalRecovered': 100207, 'Date': '2020-12-28T12:17:19Z', 'Premium': {}}, {'Country': 'Turkey', 'CountryCode': 'TR', 'Slug': 'turkey', 'NewConfirmed': 14205, 'TotalConfirmed': 2147578, 'NewDeaths': 254, 'TotalDeaths': 19878, 'NewRecovered': 21196, 'TotalRecovered': 2015230, 'Date': '2020-12-28T12:17:19Z', 'Premium': {}}, {'Country': 'Uganda', 'CountryCode': 'UG', 'Slug': 'uganda', 'NewConfirmed': 248, 'TotalConfirmed': 33811, 'NewDeaths': 3, 'TotalDeaths': 248, 'NewRecovered': 125, 'TotalRecovered': 11180, 'Date': '2020-12-28T12:17:19Z', 'Premium': {}}, {'Country': 'Ukraine', 'CountryCode': 'UA', 'Slug': 'ukraine', 'NewConfirmed': 6548, 'TotalConfirmed': 1056265, 'NewDeaths': 83, 'TotalDeaths': 18472, 'NewRecovered': 7039, 'TotalRecovered': 683273, 'Date': '2020-12-28T12:17:19Z', 'Premium': {}}, {'Country': 'United Arab Emirates', 'CountryCode': 'AE', 'Slug': 'united-arab-emirates', 'NewConfirmed': 944, 'TotalConfirmed': 201836, 'NewDeaths': 2, 'TotalDeaths': 657, 'NewRecovered': 1265, 'TotalRecovered': 178672, 'Date': '2020-12-28T12:17:19Z', 'Premium': {}}, {'Country': 'United Kingdom', 'CountryCode': 'GB', 'Slug': 'united-kingdom', 'NewConfirmed': 32493, 'TotalConfirmed': 2295228, 'NewDeaths': 347, 'TotalDeaths': 70860, 'NewRecovered': 183, 'TotalRecovered': 5093, 'Date': '2020-12-28T12:17:19Z', 'Premium': {}}, {'Country': 'United States of America', 'CountryCode': 'US', 'Slug': 'united-states', 'NewConfirmed': 150092, 'TotalConfirmed': 19132726, 'NewDeaths': 1209, 'TotalDeaths': 333118, 'NewRecovered': 0, 'TotalRecovered': 0, 'Date': '2020-12-28T12:17:19Z', 'Premium': {}}, {'Country': 'Uruguay', 'CountryCode': 'UY', 'Slug': 'uruguay', 'NewConfirmed': 510, 'TotalConfirmed': 16728, 'NewDeaths': 11, 'TotalDeaths': 158, 'NewRecovered': 519, 'TotalRecovered': 11366, 'Date': '2020-12-28T12:17:19Z', 'Premium': {}}, {'Country': 'Uzbekistan', 'CountryCode': 'UZ', 'Slug': 'uzbekistan', 'NewConfirmed': 85, 'TotalConfirmed': 76751, 'NewDeaths': 1, 'TotalDeaths': 613, 'NewRecovered': 0, 'TotalRecovered': 74291, 'Date': '2020-12-28T12:17:19Z', 'Premium': {}}, {'Country': 'Vanuatu', 'CountryCode': 'VU', 'Slug': 'vanuatu', 'NewConfirmed': 0, 'TotalConfirmed': 1, 'NewDeaths': 0, 'TotalDeaths': 0, 'NewRecovered': 0, 'TotalRecovered': 1, 'Date': '2020-12-28T12:17:19Z', 'Premium': {}}, {'Country': 'Venezuela (Bolivarian Republic)', 'CountryCode': 'VE', 'Slug': 'venezuela', 'NewConfirmed': 365, 'TotalConfirmed': 112316, 'NewDeaths': 1, 'TotalDeaths': 1014, 'NewRecovered': 348, 'TotalRecovered': 106453, 'Date': '2020-12-28T12:17:19Z', 'Premium': {}}, {'Country': 'Viet Nam', 'CountryCode': 'VN', 'Slug': 'vietnam', 'NewConfirmed': 1, 'TotalConfirmed': 1441, 'NewDeaths': 0, 'TotalDeaths': 35, 'NewRecovered': 0, 'TotalRecovered': 1303, 'Date': '2020-12-28T12:17:19Z', 'Premium': {}}, {'Country': 'Western Sahara', 'CountryCode': 'EH', 'Slug': 'western-sahara', 'NewConfirmed': 0, 'TotalConfirmed': 10, 'NewDeaths': 0, 'TotalDeaths': 1, 'NewRecovered': 0, 'TotalRecovered': 8, 'Date': '2020-12-28T12:17:19Z', 'Premium': {}}, {'Country': 'Yemen', 'CountryCode': 'YE', 'Slug': 'yemen', 'NewConfirmed': 2, 'TotalConfirmed': 2094, 'NewDeaths': 1, 'TotalDeaths': 607, 'NewRecovered': 0, 'TotalRecovered': 1384, 'Date': '2020-12-28T12:17:19Z', 'Premium': {}}, {'Country': 'Zambia', 'CountryCode': 'ZM', 'Slug': 'zambia', 'NewConfirmed': 163, 'TotalConfirmed': 19834, 'NewDeaths': 1, 'TotalDeaths': 383, 'NewRecovered': 10, 'TotalRecovered': 18210, 'Date': '2020-12-28T12:17:19Z', 'Premium': {}}, {'Country': 'Zimbabwe', 'CountryCode': 'ZW', 'Slug': 'zimbabwe', 'NewConfirmed': 114, 'TotalConfirmed': 13077, 'NewDeaths': 8, 'TotalDeaths': 349, 'NewRecovered': 74, 'TotalRecovered': 10593, 'Date': '2020-12-28T12:17:19Z', 'Premium': {}}], 'Date': '2020-12-28T12:17:19Z'}\n"
     ]
    }
   ],
   "source": [
    "print(json_response)"
   ]
  },
  {
   "cell_type": "code",
   "execution_count": 20,
   "metadata": {},
   "outputs": [
    {
     "data": {
      "text/plain": [
       "'2020-12-28T12:17:19Z'"
      ]
     },
     "execution_count": 20,
     "metadata": {},
     "output_type": "execute_result"
    }
   ],
   "source": [
    "json_response['Date']"
   ]
  },
  {
   "cell_type": "code",
   "execution_count": 21,
   "metadata": {},
   "outputs": [],
   "source": [
    "contry_list = json_response['Countries']"
   ]
  },
  {
   "cell_type": "code",
   "execution_count": 22,
   "metadata": {},
   "outputs": [
    {
     "data": {
      "text/plain": [
       "192"
      ]
     },
     "execution_count": 22,
     "metadata": {},
     "output_type": "execute_result"
    }
   ],
   "source": [
    "len(contry_list)"
   ]
  },
  {
   "cell_type": "code",
   "execution_count": null,
   "metadata": {},
   "outputs": [],
   "source": [
    "Q1. find the country with the maximum number of newconfirmed."
   ]
  },
  {
   "cell_type": "code",
   "execution_count": 23,
   "metadata": {},
   "outputs": [
    {
     "data": {
      "text/plain": [
       "{'Country': 'Afghanistan',\n",
       " 'CountryCode': 'AF',\n",
       " 'Slug': 'afghanistan',\n",
       " 'NewConfirmed': 153,\n",
       " 'TotalConfirmed': 51039,\n",
       " 'NewDeaths': 11,\n",
       " 'TotalDeaths': 2160,\n",
       " 'NewRecovered': 312,\n",
       " 'TotalRecovered': 41096,\n",
       " 'Date': '2020-12-28T12:17:19Z',\n",
       " 'Premium': {}}"
      ]
     },
     "execution_count": 23,
     "metadata": {},
     "output_type": "execute_result"
    }
   ],
   "source": [
    "contry_list[0]"
   ]
  },
  {
   "cell_type": "code",
   "execution_count": 24,
   "metadata": {},
   "outputs": [
    {
     "name": "stdout",
     "output_type": "stream",
     "text": [
      "United States of America  with  150092\n"
     ]
    }
   ],
   "source": [
    "Max_No_NewConfirmed = 0\n",
    "CountryMax = ''\n",
    "for country in contry_list:\n",
    "    if Max_No_NewConfirmed < country['NewConfirmed']:\n",
    "        Max_No_NewConfirmed = country['NewConfirmed']\n",
    "        CountryMax = country['Country']\n",
    "print(CountryMax,\" with \",Max_No_NewConfirmed)"
   ]
  },
  {
   "cell_type": "code",
   "execution_count": null,
   "metadata": {},
   "outputs": [],
   "source": [
    "## BEAUTIFULLSOUP"
   ]
  },
  {
   "cell_type": "code",
   "execution_count": 25,
   "metadata": {},
   "outputs": [
    {
     "name": "stdout",
     "output_type": "stream",
     "text": [
      "Requirement already satisfied: beautifulsoup4 in c:\\users\\mohit\\appdata\\local\\programs\\python\\python38-32\\lib\\site-packages (4.9.1)\n",
      "Requirement already satisfied: soupsieve>1.2 in c:\\users\\mohit\\appdata\\local\\programs\\python\\python38-32\\lib\\site-packages (from beautifulsoup4) (2.0.1)\n",
      "Note: you may need to restart the kernel to use updated packages.\n"
     ]
    },
    {
     "name": "stderr",
     "output_type": "stream",
     "text": [
      "WARNING: You are using pip version 19.2.3, however version 20.3.3 is available.\n",
      "You should consider upgrading via the 'python -m pip install --upgrade pip' command.\n"
     ]
    }
   ],
   "source": [
    "pip install beautifulsoup4"
   ]
  },
  {
   "cell_type": "code",
   "execution_count": 26,
   "metadata": {},
   "outputs": [],
   "source": [
    "from bs4 import BeautifulSoup"
   ]
  },
  {
   "cell_type": "code",
   "execution_count": null,
   "metadata": {},
   "outputs": [],
   "source": [
    "BeautifulSoup helps us Play with the html files. Or Understand and Use them inside python."
   ]
  },
  {
   "cell_type": "code",
   "execution_count": 27,
   "metadata": {},
   "outputs": [],
   "source": [
    "with open(\"test_file.html\") as html_file:\n",
    "    soup = BeautifulSoup(html_file,\"html.parser\")"
   ]
  },
  {
   "cell_type": "code",
   "execution_count": 32,
   "metadata": {},
   "outputs": [],
   "source": [
    "# soup"
   ]
  },
  {
   "cell_type": "code",
   "execution_count": 31,
   "metadata": {},
   "outputs": [],
   "source": [
    "# print(soup.prettify())"
   ]
  },
  {
   "cell_type": "code",
   "execution_count": 33,
   "metadata": {},
   "outputs": [
    {
     "data": {
      "text/plain": [
       "bs4.BeautifulSoup"
      ]
     },
     "execution_count": 33,
     "metadata": {},
     "output_type": "execute_result"
    }
   ],
   "source": [
    "type(soup)"
   ]
  },
  {
   "cell_type": "code",
   "execution_count": 35,
   "metadata": {},
   "outputs": [
    {
     "data": {
      "text/plain": [
       "'This is the title'"
      ]
     },
     "execution_count": 35,
     "metadata": {},
     "output_type": "execute_result"
    }
   ],
   "source": [
    "soup.title.text"
   ]
  },
  {
   "cell_type": "code",
   "execution_count": 36,
   "metadata": {},
   "outputs": [
    {
     "data": {
      "text/plain": [
       "<div class=\"love_django\">\n",
       "<p>Do you love WebD?</p>\n",
       "<a href=\"https://www.djangoproject.com/\">Here is a link to the official\n",
       "\tDjango Website</a>\n",
       "</div>"
      ]
     },
     "execution_count": 36,
     "metadata": {},
     "output_type": "execute_result"
    }
   ],
   "source": [
    "soup.div"
   ]
  },
  {
   "cell_type": "code",
   "execution_count": 37,
   "metadata": {},
   "outputs": [],
   "source": [
    "list_of_divs = soup.find_all(\"div\")"
   ]
  },
  {
   "cell_type": "code",
   "execution_count": 39,
   "metadata": {},
   "outputs": [
    {
     "data": {
      "text/plain": [
       "2"
      ]
     },
     "execution_count": 39,
     "metadata": {},
     "output_type": "execute_result"
    }
   ],
   "source": [
    "len(list_of_divs)"
   ]
  },
  {
   "cell_type": "code",
   "execution_count": 40,
   "metadata": {},
   "outputs": [
    {
     "name": "stdout",
     "output_type": "stream",
     "text": [
      "<class 'bs4.element.Tag'>\n"
     ]
    }
   ],
   "source": [
    "print(type(list_of_divs[0]))"
   ]
  },
  {
   "cell_type": "code",
   "execution_count": 43,
   "metadata": {},
   "outputs": [],
   "source": [
    "ml_tag = soup.find('div',class_='love_tensorflow')"
   ]
  },
  {
   "cell_type": "code",
   "execution_count": 44,
   "metadata": {},
   "outputs": [
    {
     "data": {
      "text/plain": [
       "bs4.element.Tag"
      ]
     },
     "execution_count": 44,
     "metadata": {},
     "output_type": "execute_result"
    }
   ],
   "source": [
    "type(ml_tag)"
   ]
  },
  {
   "cell_type": "code",
   "execution_count": 46,
   "metadata": {},
   "outputs": [
    {
     "data": {
      "text/plain": [
       "'Do you love Machine Learning'"
      ]
     },
     "execution_count": 46,
     "metadata": {},
     "output_type": "execute_result"
    }
   ],
   "source": [
    "ml_tag.p.text"
   ]
  },
  {
   "cell_type": "code",
   "execution_count": null,
   "metadata": {},
   "outputs": [],
   "source": [
    "Q1. Print all the list items one by one."
   ]
  },
  {
   "cell_type": "code",
   "execution_count": 47,
   "metadata": {},
   "outputs": [],
   "source": [
    "list_of_li = soup.find_all('li')"
   ]
  },
  {
   "cell_type": "code",
   "execution_count": 49,
   "metadata": {},
   "outputs": [
    {
     "name": "stdout",
     "output_type": "stream",
     "text": [
      "First item\n",
      "Second item\n",
      "Third item\n",
      "Bullet one\n",
      "Second Item\n",
      "Third Item\n",
      "Item one\n",
      "Item two\n",
      "I'm nested inside item two?\n",
      " Also nested\n",
      "I nested insdie nesed.\n",
      "Me too\n"
     ]
    }
   ],
   "source": [
    "for i in list_of_li:\n",
    "    print(i.text)"
   ]
  },
  {
   "cell_type": "code",
   "execution_count": 50,
   "metadata": {},
   "outputs": [
    {
     "data": {
      "text/plain": [
       "<div class=\"love_tensorflow\">\n",
       "<p>Do you love Machine Learning</p>\n",
       "<a href=\"https://www.anaconda.com/\">Here is a link to the official\n",
       "\tAnaconda Website</a>\n",
       "</div>"
      ]
     },
     "execution_count": 50,
     "metadata": {},
     "output_type": "execute_result"
    }
   ],
   "source": [
    "ml_tag"
   ]
  },
  {
   "cell_type": "code",
   "execution_count": 68,
   "metadata": {},
   "outputs": [],
   "source": [
    "link_tag = ml_tag.a"
   ]
  },
  {
   "cell_type": "code",
   "execution_count": 69,
   "metadata": {},
   "outputs": [
    {
     "data": {
      "text/plain": [
       "<a href=\"https://www.anaconda.com/\">Here is a link to the official\n",
       "\tAnaconda Website</a>"
      ]
     },
     "execution_count": 69,
     "metadata": {},
     "output_type": "execute_result"
    }
   ],
   "source": [
    "link_tag"
   ]
  },
  {
   "cell_type": "code",
   "execution_count": 70,
   "metadata": {},
   "outputs": [
    {
     "data": {
      "text/plain": [
       "'https://www.anaconda.com/'"
      ]
     },
     "execution_count": 70,
     "metadata": {},
     "output_type": "execute_result"
    }
   ],
   "source": [
    "link_tag['href']"
   ]
  },
  {
   "cell_type": "code",
   "execution_count": null,
   "metadata": {},
   "outputs": [],
   "source": []
  }
 ],
 "metadata": {
  "kernelspec": {
   "display_name": "Python 3",
   "language": "python",
   "name": "python3"
  },
  "language_info": {
   "codemirror_mode": {
    "name": "ipython",
    "version": 3
   },
   "file_extension": ".py",
   "mimetype": "text/x-python",
   "name": "python",
   "nbconvert_exporter": "python",
   "pygments_lexer": "ipython3",
   "version": "3.8.3"
  }
 },
 "nbformat": 4,
 "nbformat_minor": 4
}
