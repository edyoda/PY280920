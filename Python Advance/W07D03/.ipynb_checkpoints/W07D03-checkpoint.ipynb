{
 "cells": [
  {
   "cell_type": "code",
   "execution_count": null,
   "metadata": {},
   "outputs": [],
   "source": [
    "JSON, XML and CSV files."
   ]
  },
  {
   "cell_type": "code",
   "execution_count": null,
   "metadata": {},
   "outputs": [],
   "source": [
    "JSON: JAVASCRIPT OBJECT NOTATION\n",
    "    \n",
    "LIGHT WEIGHT FILE USED FOR DATAINTERCHANGE FORMAT."
   ]
  },
  {
   "cell_type": "code",
   "execution_count": null,
   "metadata": {},
   "outputs": [],
   "source": [
    "{\"KEY\":\"VALUE\"} AND HERE:-"
   ]
  },
  {
   "cell_type": "code",
   "execution_count": null,
   "metadata": {},
   "outputs": [],
   "source": [
    "VALUES can be:\n",
    "    String\n",
    "    number\n",
    "    another JSON object\n",
    "    array(list)\n",
    "    bool\n",
    "    null(None)"
   ]
  },
  {
   "cell_type": "code",
   "execution_count": null,
   "metadata": {},
   "outputs": [],
   "source": [
    "# Generally Nested Structure of list and dictionaries "
   ]
  },
  {
   "cell_type": "code",
   "execution_count": 1,
   "metadata": {},
   "outputs": [],
   "source": [
    "import json"
   ]
  },
  {
   "cell_type": "code",
   "execution_count": 8,
   "metadata": {},
   "outputs": [],
   "source": [
    "fp = open(\"example.json\",\"r\")"
   ]
  },
  {
   "cell_type": "code",
   "execution_count": 3,
   "metadata": {},
   "outputs": [
    {
     "data": {
      "text/plain": [
       "<_io.TextIOWrapper name='example.json' mode='r' encoding='cp1252'>"
      ]
     },
     "execution_count": 3,
     "metadata": {},
     "output_type": "execute_result"
    }
   ],
   "source": [
    "fp"
   ]
  },
  {
   "cell_type": "code",
   "execution_count": 9,
   "metadata": {},
   "outputs": [],
   "source": [
    "content = fp.read()"
   ]
  },
  {
   "cell_type": "code",
   "execution_count": 13,
   "metadata": {},
   "outputs": [
    {
     "data": {
      "text/plain": [
       "'{\"quiz\": {\\n\\t\\t\"sport\": {\\n\\t\\t\\t\"q1\": {\\n\\t\\t\\t\\t\"question\": \"Which one is correct team name in NBA?\",\\n\\t\\t\\t\\t\"options\": [\\n\\t\\t\\t\\t\\t\"New York Bulls\",\\n\\t\\t\\t\\t\\t\"Los Angeles Kings\",\\n\\t\\t\\t\\t\\t\"Golden State Warriros\",\\n\\t\\t\\t\\t\\t\"Huston Rocket\"\\n\\t\\t\\t\\t],\\n\\t\\t\\t\\t\"answer\": \"Huston Rocket\"\\n\\t\\t\\t}\\n\\t\\t},\\n\\t\\t\"maths\": {\\n\\t\\t\\t\"q1\": {\\n\\t\\t\\t\\t\"question\": \"5 + 7 = ?\",\\n\\t\\t\\t\\t\"options\": [\\n\\t\\t\\t\\t\\t\"10\",\\n\\t\\t\\t\\t\\t\"11\",\\n\\t\\t\\t\\t\\t\"12\",\\n\\t\\t\\t\\t\\t\"13\"\\n\\t\\t\\t\\t],\\n\\t\\t\\t\\t\"answer\": \"12\"\\n\\t\\t\\t},\\n\\t\\t\\t\"q2\": {\\n\\t\\t\\t\\t\"question\": \"12 - 8 = ?\",\\n\\t\\t\\t\\t\"options\": [\\n\\t\\t\\t\\t\\t\"1\",\\n\\t\\t\\t\\t\\t\"2\",\\n\\t\\t\\t\\t\\t\"3\",\\n\\t\\t\\t\\t\\t\"4\"\\n\\t\\t\\t\\t],\\n\\t\\t\\t\\t\"answer\": \"4\"\\n\\t\\t\\t}\\n\\t\\t}\\n\\t}\\n}'"
      ]
     },
     "execution_count": 13,
     "metadata": {},
     "output_type": "execute_result"
    }
   ],
   "source": [
    "content"
   ]
  },
  {
   "cell_type": "code",
   "execution_count": 10,
   "metadata": {},
   "outputs": [
    {
     "data": {
      "text/plain": [
       "str"
      ]
     },
     "execution_count": 10,
     "metadata": {},
     "output_type": "execute_result"
    }
   ],
   "source": [
    "type(content)"
   ]
  },
  {
   "cell_type": "code",
   "execution_count": 11,
   "metadata": {},
   "outputs": [],
   "source": [
    "content_in_json_format = json.loads(content)"
   ]
  },
  {
   "cell_type": "code",
   "execution_count": 12,
   "metadata": {},
   "outputs": [
    {
     "data": {
      "text/plain": [
       "{'quiz': {'sport': {'q1': {'question': 'Which one is correct team name in NBA?',\n",
       "    'options': ['New York Bulls',\n",
       "     'Los Angeles Kings',\n",
       "     'Golden State Warriros',\n",
       "     'Huston Rocket'],\n",
       "    'answer': 'Huston Rocket'}},\n",
       "  'maths': {'q1': {'question': '5 + 7 = ?',\n",
       "    'options': ['10', '11', '12', '13'],\n",
       "    'answer': '12'},\n",
       "   'q2': {'question': '12 - 8 = ?',\n",
       "    'options': ['1', '2', '3', '4'],\n",
       "    'answer': '4'}}}}"
      ]
     },
     "execution_count": 12,
     "metadata": {},
     "output_type": "execute_result"
    }
   ],
   "source": [
    "content_in_json_format"
   ]
  },
  {
   "cell_type": "code",
   "execution_count": 14,
   "metadata": {},
   "outputs": [
    {
     "data": {
      "text/plain": [
       "dict"
      ]
     },
     "execution_count": 14,
     "metadata": {},
     "output_type": "execute_result"
    }
   ],
   "source": [
    "type(content_in_json_format)"
   ]
  },
  {
   "cell_type": "code",
   "execution_count": 15,
   "metadata": {},
   "outputs": [
    {
     "data": {
      "text/plain": [
       "{'sport': {'q1': {'question': 'Which one is correct team name in NBA?',\n",
       "   'options': ['New York Bulls',\n",
       "    'Los Angeles Kings',\n",
       "    'Golden State Warriros',\n",
       "    'Huston Rocket'],\n",
       "   'answer': 'Huston Rocket'}},\n",
       " 'maths': {'q1': {'question': '5 + 7 = ?',\n",
       "   'options': ['10', '11', '12', '13'],\n",
       "   'answer': '12'},\n",
       "  'q2': {'question': '12 - 8 = ?',\n",
       "   'options': ['1', '2', '3', '4'],\n",
       "   'answer': '4'}}}"
      ]
     },
     "execution_count": 15,
     "metadata": {},
     "output_type": "execute_result"
    }
   ],
   "source": [
    "content_in_json_format['quiz']"
   ]
  },
  {
   "cell_type": "code",
   "execution_count": 16,
   "metadata": {},
   "outputs": [
    {
     "data": {
      "text/plain": [
       "{'q1': {'question': '5 + 7 = ?',\n",
       "  'options': ['10', '11', '12', '13'],\n",
       "  'answer': '12'},\n",
       " 'q2': {'question': '12 - 8 = ?',\n",
       "  'options': ['1', '2', '3', '4'],\n",
       "  'answer': '4'}}"
      ]
     },
     "execution_count": 16,
     "metadata": {},
     "output_type": "execute_result"
    }
   ],
   "source": [
    "content_in_json_format['quiz']['maths']"
   ]
  },
  {
   "cell_type": "code",
   "execution_count": 17,
   "metadata": {},
   "outputs": [
    {
     "data": {
      "text/plain": [
       "{'question': '5 + 7 = ?', 'options': ['10', '11', '12', '13'], 'answer': '12'}"
      ]
     },
     "execution_count": 17,
     "metadata": {},
     "output_type": "execute_result"
    }
   ],
   "source": [
    "content_in_json_format['quiz']['maths']['q1']"
   ]
  },
  {
   "cell_type": "code",
   "execution_count": 18,
   "metadata": {},
   "outputs": [
    {
     "data": {
      "text/plain": [
       "{'question': '12 - 8 = ?', 'options': ['1', '2', '3', '4'], 'answer': '4'}"
      ]
     },
     "execution_count": 18,
     "metadata": {},
     "output_type": "execute_result"
    }
   ],
   "source": [
    "content_in_json_format['quiz']['maths']['q2']"
   ]
  },
  {
   "cell_type": "code",
   "execution_count": null,
   "metadata": {},
   "outputs": [],
   "source": [
    "## Exercise:\n",
    "\n",
    "first_task: Write the Quiz Questions with number like 1,2,3 and the options with labels like a,b,c,d.\n",
    "    \n",
    "second_task: and then in the end print the answers for the questions corresponding to questions number\n",
    "    \n",
    "Output should look like:\n",
    "    \n",
    "1. Which one is correct team name in NBA?\n",
    "a)New York Bulls\n",
    "b)Los Angeles Kings\n",
    "c)Golden State Warriros\n",
    "d)Huston Rocket\n",
    "\n",
    "2. 5 + 7 = ?\n",
    "a)10\n",
    "b)11\n",
    "c)12\n",
    "d)13\n",
    "\n",
    "\n",
    "1) Huston Rocket\n",
    "2) 12"
   ]
  },
  {
   "cell_type": "code",
   "execution_count": 19,
   "metadata": {},
   "outputs": [],
   "source": [
    "fp = open(\"example.json\",\"r\")\n",
    "content = fp.read()\n",
    "content_in_json_format = json.loads(content)"
   ]
  },
  {
   "cell_type": "code",
   "execution_count": null,
   "metadata": {},
   "outputs": [],
   "source": [
    "10 minutes. 20:12"
   ]
  },
  {
   "cell_type": "code",
   "execution_count": 20,
   "metadata": {},
   "outputs": [
    {
     "data": {
      "text/plain": [
       "{'quiz': {'sport': {'q1': {'question': 'Which one is correct team name in NBA?',\n",
       "    'options': ['New York Bulls',\n",
       "     'Los Angeles Kings',\n",
       "     'Golden State Warriros',\n",
       "     'Huston Rocket'],\n",
       "    'answer': 'Huston Rocket'}},\n",
       "  'maths': {'q1': {'question': '5 + 7 = ?',\n",
       "    'options': ['10', '11', '12', '13'],\n",
       "    'answer': '12'},\n",
       "   'q2': {'question': '12 - 8 = ?',\n",
       "    'options': ['1', '2', '3', '4'],\n",
       "    'answer': '4'}}}}"
      ]
     },
     "execution_count": 20,
     "metadata": {},
     "output_type": "execute_result"
    }
   ],
   "source": [
    "content_in_json_format"
   ]
  },
  {
   "cell_type": "code",
   "execution_count": 21,
   "metadata": {},
   "outputs": [],
   "source": [
    "quiz_data = content_in_json_format['quiz']"
   ]
  },
  {
   "cell_type": "code",
   "execution_count": 22,
   "metadata": {},
   "outputs": [
    {
     "data": {
      "text/plain": [
       "dict_keys(['sport', 'maths'])"
      ]
     },
     "execution_count": 22,
     "metadata": {},
     "output_type": "execute_result"
    }
   ],
   "source": [
    "quiz_data.keys()"
   ]
  },
  {
   "cell_type": "code",
   "execution_count": 43,
   "metadata": {},
   "outputs": [
    {
     "name": "stdout",
     "output_type": "stream",
     "text": [
      "sport\n",
      "==============\n",
      "1) Which one is correct team name in NBA?\n",
      "a) New York Bulls\n",
      "b) Los Angeles Kings\n",
      "c) Golden State Warriros\n",
      "d) Huston Rocket\n",
      "\n",
      "\n",
      "maths\n",
      "==============\n",
      "1) 5 + 7 = ?\n",
      "a) 10\n",
      "b) 11\n",
      "c) 12\n",
      "d) 13\n",
      "\n",
      "\n",
      "2) 12 - 8 = ?\n",
      "a) 1\n",
      "b) 2\n",
      "c) 3\n",
      "d) 4\n",
      "\n",
      "\n"
     ]
    }
   ],
   "source": [
    "for type_of_subject in quiz_data.keys():\n",
    "    print(type_of_subject)\n",
    "    print(\"==============\")\n",
    "    question_counter = 1\n",
    "    for question_data in quiz_data[type_of_subject]:\n",
    "        print(str(question_counter)+\")\",quiz_data[type_of_subject][question_data]['question'])\n",
    "        question_counter+=1\n",
    "        option_counter = 97\n",
    "        for option in quiz_data[type_of_subject][question_data]['options']:\n",
    "            print(str(chr(option_counter))+\")\",option)\n",
    "            option_counter+=1\n",
    "        print(\"\\n\")"
   ]
  },
  {
   "cell_type": "code",
   "execution_count": 39,
   "metadata": {},
   "outputs": [
    {
     "data": {
      "text/plain": [
       "'a'"
      ]
     },
     "execution_count": 39,
     "metadata": {},
     "output_type": "execute_result"
    }
   ],
   "source": [
    "chr(97)"
   ]
  },
  {
   "cell_type": "code",
   "execution_count": 45,
   "metadata": {},
   "outputs": [],
   "source": [
    "content_in_json_format['quiz']['sport']['q1']['options'][0] = \"RED BULL\""
   ]
  },
  {
   "cell_type": "code",
   "execution_count": 46,
   "metadata": {},
   "outputs": [
    {
     "data": {
      "text/plain": [
       "{'quiz': {'sport': {'q1': {'question': 'Which one is correct team name in NBA?',\n",
       "    'options': ['RED BULL',\n",
       "     'Los Angeles Kings',\n",
       "     'Golden State Warriros',\n",
       "     'Huston Rocket'],\n",
       "    'answer': 'Huston Rocket'}},\n",
       "  'maths': {'q1': {'question': '5 + 7 = ?',\n",
       "    'options': ['10', '11', '12', '13'],\n",
       "    'answer': '12'},\n",
       "   'q2': {'question': '12 - 8 = ?',\n",
       "    'options': ['1', '2', '3', '4'],\n",
       "    'answer': '4'}}}}"
      ]
     },
     "execution_count": 46,
     "metadata": {},
     "output_type": "execute_result"
    }
   ],
   "source": [
    "content_in_json_format"
   ]
  },
  {
   "cell_type": "code",
   "execution_count": null,
   "metadata": {},
   "outputs": [],
   "source": [
    "create a json file from dict in python"
   ]
  },
  {
   "cell_type": "code",
   "execution_count": 47,
   "metadata": {},
   "outputs": [],
   "source": [
    "fp = open(\"changed_example.json\",\"w+\")"
   ]
  },
  {
   "cell_type": "code",
   "execution_count": 48,
   "metadata": {},
   "outputs": [],
   "source": [
    "dump_data = json.dumps(content_in_json_format)"
   ]
  },
  {
   "cell_type": "code",
   "execution_count": 49,
   "metadata": {},
   "outputs": [
    {
     "data": {
      "text/plain": [
       "377"
      ]
     },
     "execution_count": 49,
     "metadata": {},
     "output_type": "execute_result"
    }
   ],
   "source": [
    "fp.write(dump_data)"
   ]
  },
  {
   "cell_type": "code",
   "execution_count": 50,
   "metadata": {},
   "outputs": [],
   "source": [
    "fp.close()"
   ]
  },
  {
   "cell_type": "code",
   "execution_count": null,
   "metadata": {},
   "outputs": [],
   "source": [
    "diff b/w loads and dumps\n",
    "\n",
    "loads convert into python readable format (text/str into a dict)\n",
    "\n",
    "dumps do the reverse of that, convert a python dict into text which can be saved in a file."
   ]
  },
  {
   "cell_type": "code",
   "execution_count": null,
   "metadata": {},
   "outputs": [],
   "source": [
    "H/w Question on file space_astro.json"
   ]
  },
  {
   "cell_type": "code",
   "execution_count": null,
   "metadata": {},
   "outputs": [],
   "source": [
    "XML FILES:(Extensible Markup Language)\n",
    "    USED for sendning Data and Receive Data\n",
    "    They look like html, but they don't have predefined tags.\n",
    "    You make your own tags. You make tags to specify what kind of data you are sending"
   ]
  },
  {
   "cell_type": "code",
   "execution_count": null,
   "metadata": {},
   "outputs": [],
   "source": [
    "JSON => {\"matplotlib\":2,\"numpy\":1,\"pandas\":1}\n",
    "\n",
    "XML version of above JSON is:\n",
    "    \n",
    "<module_data>\n",
    "<matplotlib>2</matplotlib>\n",
    "<numpy>1</numpy>\n",
    "<pandas>1</pandas>\n",
    "</module_data>"
   ]
  },
  {
   "cell_type": "code",
   "execution_count": null,
   "metadata": {},
   "outputs": [],
   "source": [
    "Sign up Page:\n",
    "    name:\n",
    "    age:\n",
    "    sex:"
   ]
  },
  {
   "cell_type": "code",
   "execution_count": null,
   "metadata": {},
   "outputs": [],
   "source": [
    "<form>\n",
    "<name>Mohit</name>\n",
    "<age>50</age>\n",
    "<sex>M</sex>\n",
    "</form>"
   ]
  },
  {
   "cell_type": "code",
   "execution_count": null,
   "metadata": {},
   "outputs": [],
   "source": [
    "<form>\n",
    "<name>mohit</name>\n",
    "<age>50</age>\n",
    "<sex>M</sex>\n",
    "</form>"
   ]
  },
  {
   "cell_type": "code",
   "execution_count": null,
   "metadata": {},
   "outputs": [],
   "source": [
    "## Rules:\n",
    "1) Opening and Closing Tags\n",
    "2) Root tag\n",
    "3) case sensitive"
   ]
  },
  {
   "cell_type": "code",
   "execution_count": 52,
   "metadata": {},
   "outputs": [],
   "source": [
    "Uses:\n",
    "    Send data like json\n",
    "    Config files (Java Config files, Salesforce LWC,Apex, .xml files to store metadata of the code.)\n",
    "    Aid html in design."
   ]
  },
  {
   "cell_type": "code",
   "execution_count": null,
   "metadata": {},
   "outputs": [],
   "source": [
    "to read and write this files: we can BeautifullSoup"
   ]
  },
  {
   "cell_type": "code",
   "execution_count": 53,
   "metadata": {},
   "outputs": [],
   "source": [
    "from bs4 import BeautifulSoup"
   ]
  },
  {
   "cell_type": "code",
   "execution_count": 54,
   "metadata": {},
   "outputs": [],
   "source": [
    "with open(\"test_file.xml\") as fp:\n",
    "    soup = BeautifulSoup(fp,\"html.parser\")"
   ]
  },
  {
   "cell_type": "code",
   "execution_count": 55,
   "metadata": {},
   "outputs": [
    {
     "data": {
      "text/plain": [
       "<breakfast_menu>\n",
       "<food>\n",
       "<name>Belgian Waffles</name>\n",
       "<price>$5.95</price>\n",
       "<description>Two of our famous Belgian Waffles with plenty of real maple syrup</description>\n",
       "<calories>650</calories>\n",
       "</food>\n",
       "<food>\n",
       "<name>Strawberry Belgian Waffles</name>\n",
       "<price>$7.95</price>\n",
       "<description>Light Belgian waffles covered with strawberries and whipped cream</description>\n",
       "<calories>900</calories>\n",
       "</food>\n",
       "<food>\n",
       "<name>Berry-Berry Belgian Waffles</name>\n",
       "<price>$8.95</price>\n",
       "<description>Light Belgian waffles covered with an assortment of fresh berries and whipped cream</description>\n",
       "<calories>900</calories>\n",
       "</food>\n",
       "<food>\n",
       "<name>French Toast</name>\n",
       "<price>$4.50</price>\n",
       "<description>Thick slices made from our homemade sourdough bread</description>\n",
       "<calories>600</calories>\n",
       "</food>\n",
       "<food>\n",
       "<name>Homestyle Breakfast</name>\n",
       "<price>$6.95</price>\n",
       "<description>Two eggs, bacon or sausage, toast, and our ever-popular hash browns</description>\n",
       "<calories>950</calories>\n",
       "</food>\n",
       "</breakfast_menu>"
      ]
     },
     "execution_count": 55,
     "metadata": {},
     "output_type": "execute_result"
    }
   ],
   "source": [
    "soup"
   ]
  },
  {
   "cell_type": "code",
   "execution_count": 66,
   "metadata": {},
   "outputs": [
    {
     "name": "stdout",
     "output_type": "stream",
     "text": [
      "______________________________XML RESTRAUNT__________________________________\n",
      "\n",
      "\n",
      "Belgian Waffles------------------>$5.95\n",
      "Two of our famous Belgian Waffles with plenty of real maple syrup\n",
      "\n",
      "\n",
      "Strawberry Belgian Waffles------------------>$7.95\n",
      "Light Belgian waffles covered with strawberries and whipped cream\n",
      "\n",
      "\n",
      "Berry-Berry Belgian Waffles------------------>$8.95\n",
      "Light Belgian waffles covered with an assortment of fresh berries and whipped cream\n",
      "\n",
      "\n",
      "French Toast------------------>$4.50\n",
      "Thick slices made from our homemade sourdough bread\n",
      "\n",
      "\n",
      "Homestyle Breakfast------------------>$6.95\n",
      "Two eggs, bacon or sausage, toast, and our ever-popular hash browns\n",
      "\n",
      "\n"
     ]
    }
   ],
   "source": [
    "print(\"______________________________XML RESTRAUNT__________________________________\")\n",
    "print(\"\\n\")\n",
    "food_list = soup.find_all(\"food\")\n",
    "for food in food_list:\n",
    "    print(str(food.find('name').text)+\"------------------>\"+str(food.find('price').text))\n",
    "    print(food.find('description').text)\n",
    "    print(\"\\n\")"
   ]
  },
  {
   "cell_type": "code",
   "execution_count": null,
   "metadata": {},
   "outputs": [],
   "source": [
    "## CSV FILES\n",
    "\n",
    "COMMA SEPARATED VALUES"
   ]
  },
  {
   "cell_type": "code",
   "execution_count": null,
   "metadata": {},
   "outputs": [],
   "source": [
    "name,gender,marks\n",
    "vamsi,m,100\n",
    "gaurav,m,90\n",
    "swatantra,m,96\n",
    "urmi,f,99"
   ]
  },
  {
   "cell_type": "code",
   "execution_count": null,
   "metadata": {},
   "outputs": [],
   "source": [
    "They are important to store the data in a table like format.\n",
    "we can make a table directly from a csv file in pandas,and many other libraries\n",
    "csv files are easily opened by Microsoft excel\n",
    ".xlsx, .xl"
   ]
  },
  {
   "cell_type": "code",
   "execution_count": null,
   "metadata": {},
   "outputs": [],
   "source": [
    "if you store a data into json like format , it;s not easy to interpret the data quickly like a table.\n",
    "\n",
    "and csv files are like the fastest to read and write.(basically process)"
   ]
  },
  {
   "cell_type": "code",
   "execution_count": null,
   "metadata": {},
   "outputs": [],
   "source": [
    "csv files are created by programs that handle large amounts of data.\n",
    "they are a convenient way to export data from spreadsheets and databases.\n",
    "They are easy to import and use."
   ]
  },
  {
   "cell_type": "code",
   "execution_count": 73,
   "metadata": {},
   "outputs": [
    {
     "name": "stdout",
     "output_type": "stream",
     "text": [
      "name---department---birthday month\n",
      "John Smith---Accounting---November\n",
      "Erica Meyers---IT---March\n"
     ]
    }
   ],
   "source": [
    "import csv\n",
    "\n",
    "with open('test.txt') as fp:\n",
    "    csv_reader = csv.reader(fp, delimiter=',')\n",
    "    for row in csv_reader:\n",
    "            print(\"---\".join(row))"
   ]
  },
  {
   "cell_type": "code",
   "execution_count": null,
   "metadata": {},
   "outputs": [],
   "source": [
    "HOMEWORK: READ ABOUT: WHAT ARE API'S."
   ]
  }
 ],
 "metadata": {
  "kernelspec": {
   "display_name": "Python 3",
   "language": "python",
   "name": "python3"
  },
  "language_info": {
   "codemirror_mode": {
    "name": "ipython",
    "version": 3
   },
   "file_extension": ".py",
   "mimetype": "text/x-python",
   "name": "python",
   "nbconvert_exporter": "python",
   "pygments_lexer": "ipython3",
   "version": "3.8.3"
  }
 },
 "nbformat": 4,
 "nbformat_minor": 4
}
